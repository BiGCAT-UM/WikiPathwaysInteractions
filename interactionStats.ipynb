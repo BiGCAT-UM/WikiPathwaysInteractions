{
 "cells": [
  {
   "cell_type": "markdown",
   "metadata": {},
   "source": [
    "# Number of Non-Directed Interactions"
   ]
  },
  {
   "cell_type": "code",
   "execution_count": 1,
   "metadata": {},
   "outputs": [],
   "source": [
    "from pip._internal import main as pip\n",
    "try:\n",
    "    import csv\n",
    "except ImportError:\n",
    "    pip(['install', 'csv'])\n",
    "    import csv\n",
    "try:\n",
    "    from SPARQLWrapper import SPARQLWrapper, JSON\n",
    "except  ImportError:\n",
    "    pip(['install', 'sparqlwrapper'])\n",
    "    from SPARQLWrapper import SPARQLWrapper, JSON\n",
    "    \n",
    "import pandas\n",
    "    \n",
    "sparql = SPARQLWrapper(\"http://sparql.wikipathways.org\")\n",
    "NonDirected = pandas.DataFrame(columns=['NonDirected Interactions Count'])\n",
    "pathwayQuery = '''\n",
    "      SELECT DISTINCT (count(?entity) as ?NonDirectInt)\n",
    "      WHERE {\n",
    "        ?entity a wp:Interaction . \n",
    "        MINUS { ?entity a wp:DirectedInteraction .}\n",
    "      }  \n",
    "    '''\n",
    "sparql.setQuery(pathwayQuery)\n",
    "sparql.setReturnFormat(JSON)\n",
    "results = sparql.query().convert()\n",
    "\n",
    "for result in results[\"results\"][\"bindings\"]:\n",
    "\tNonDirected = NonDirected.append({\n",
    "\t\t'NonDirected Interactions Count': result[\"NonDirectInt\"][\"value\"],\n",
    "\t }, ignore_index=True)"
   ]
  },
  {
   "cell_type": "code",
   "execution_count": 2,
   "metadata": {},
   "outputs": [
    {
     "data": {
      "text/html": [
       "<div>\n",
       "<style scoped>\n",
       "    .dataframe tbody tr th:only-of-type {\n",
       "        vertical-align: middle;\n",
       "    }\n",
       "\n",
       "    .dataframe tbody tr th {\n",
       "        vertical-align: top;\n",
       "    }\n",
       "\n",
       "    .dataframe thead th {\n",
       "        text-align: right;\n",
       "    }\n",
       "</style>\n",
       "<table border=\"1\" class=\"dataframe\">\n",
       "  <thead>\n",
       "    <tr style=\"text-align: right;\">\n",
       "      <th></th>\n",
       "      <th>NonDirected Interactions Count</th>\n",
       "    </tr>\n",
       "  </thead>\n",
       "  <tbody>\n",
       "    <tr>\n",
       "      <th>0</th>\n",
       "      <td>32654</td>\n",
       "    </tr>\n",
       "  </tbody>\n",
       "</table>\n",
       "</div>"
      ],
      "text/plain": [
       "  NonDirected Interactions Count\n",
       "0                          32654"
      ]
     },
     "execution_count": 2,
     "metadata": {},
     "output_type": "execute_result"
    }
   ],
   "source": [
    "NonDirected"
   ]
  },
  {
   "cell_type": "markdown",
   "metadata": {},
   "source": [
    "# Total WP Interactions"
   ]
  },
  {
   "cell_type": "code",
   "execution_count": 3,
   "metadata": {},
   "outputs": [],
   "source": [
    "sparql = SPARQLWrapper(\"http://sparql.wikipathways.org\")\n",
    "totalWPInts = pandas.DataFrame(columns=['Total WP Interactions'])\n",
    "pathwayQuery = '''\n",
    "      SELECT DISTINCT (count(?entity) as ?InteractionCount)\n",
    "      WHERE {\n",
    "        ?entity a wp:Interaction . \n",
    "      }  \n",
    "    '''\n",
    "sparql.setQuery(pathwayQuery)\n",
    "sparql.setReturnFormat(JSON)\n",
    "results = sparql.query().convert()\n",
    "\n",
    "for result in results[\"results\"][\"bindings\"]:\n",
    "\ttotalWPInts = totalWPInts.append({\n",
    "\t\t'Total WP Interactions': result[\"InteractionCount\"][\"value\"],\n",
    "\t }, ignore_index=True)\n",
    "\n",
    "formTotalWPInts = totalWPInts.loc[:, \"Total WP Interactions\"].apply(pandas.to_numeric, errors = 'ignore').sum()"
   ]
  },
  {
   "cell_type": "code",
   "execution_count": 4,
   "metadata": {},
   "outputs": [
    {
     "data": {
      "text/html": [
       "<div>\n",
       "<style scoped>\n",
       "    .dataframe tbody tr th:only-of-type {\n",
       "        vertical-align: middle;\n",
       "    }\n",
       "\n",
       "    .dataframe tbody tr th {\n",
       "        vertical-align: top;\n",
       "    }\n",
       "\n",
       "    .dataframe thead th {\n",
       "        text-align: right;\n",
       "    }\n",
       "</style>\n",
       "<table border=\"1\" class=\"dataframe\">\n",
       "  <thead>\n",
       "    <tr style=\"text-align: right;\">\n",
       "      <th></th>\n",
       "      <th>Total WP Interactions</th>\n",
       "    </tr>\n",
       "  </thead>\n",
       "  <tbody>\n",
       "    <tr>\n",
       "      <th>0</th>\n",
       "      <td>76840</td>\n",
       "    </tr>\n",
       "  </tbody>\n",
       "</table>\n",
       "</div>"
      ],
      "text/plain": [
       "  Total WP Interactions\n",
       "0                 76840"
      ]
     },
     "execution_count": 4,
     "metadata": {},
     "output_type": "execute_result"
    }
   ],
   "source": [
    "totalWPInts"
   ]
  },
  {
   "cell_type": "markdown",
   "metadata": {},
   "source": [
    "# Count of Interaction Types"
   ]
  },
  {
   "cell_type": "code",
   "execution_count": 5,
   "metadata": {},
   "outputs": [],
   "source": [
    "sparql = SPARQLWrapper(\"http://sparql.wikipathways.org\")\n",
    "IntTypesCount = pandas.DataFrame(columns=['Interaction Type', 'Interaction Count'])\n",
    "\n",
    "pathwayQuery = '''\n",
    "      SELECT (substr(str(?o),41) as ?IntType) (COUNT(?o) as ?IntCount)\n",
    "      WHERE {\n",
    "        ?entity a ?o . \n",
    "        ?entity a wp:Interaction . \n",
    "      } GROUP BY ?o\n",
    "    '''\n",
    "sparql.setQuery(pathwayQuery)\n",
    "sparql.setReturnFormat(JSON)\n",
    "results = sparql.query().convert()\n",
    "\n",
    "for result in results[\"results\"][\"bindings\"]:\n",
    "\tIntTypesCount = IntTypesCount.append({\n",
    "\t\t'Interaction Type': result[\"IntType\"][\"value\"],\n",
    "        'Interaction Count': result[\"IntCount\"][\"value\"],\n",
    "\t }, ignore_index=True)"
   ]
  },
  {
   "cell_type": "code",
   "execution_count": 6,
   "metadata": {},
   "outputs": [
    {
     "data": {
      "text/html": [
       "<div>\n",
       "<style scoped>\n",
       "    .dataframe tbody tr th:only-of-type {\n",
       "        vertical-align: middle;\n",
       "    }\n",
       "\n",
       "    .dataframe tbody tr th {\n",
       "        vertical-align: top;\n",
       "    }\n",
       "\n",
       "    .dataframe thead th {\n",
       "        text-align: right;\n",
       "    }\n",
       "</style>\n",
       "<table border=\"1\" class=\"dataframe\">\n",
       "  <thead>\n",
       "    <tr style=\"text-align: right;\">\n",
       "      <th></th>\n",
       "      <th>Interaction Type</th>\n",
       "      <th>Interaction Count</th>\n",
       "    </tr>\n",
       "  </thead>\n",
       "  <tbody>\n",
       "    <tr>\n",
       "      <th>0</th>\n",
       "      <td>DirectedInteraction</td>\n",
       "      <td>44186</td>\n",
       "    </tr>\n",
       "    <tr>\n",
       "      <th>1</th>\n",
       "      <td>ComplexBinding</td>\n",
       "      <td>11438</td>\n",
       "    </tr>\n",
       "    <tr>\n",
       "      <th>2</th>\n",
       "      <td>Interaction</td>\n",
       "      <td>76840</td>\n",
       "    </tr>\n",
       "    <tr>\n",
       "      <th>3</th>\n",
       "      <td>TranscriptionTranslation</td>\n",
       "      <td>508</td>\n",
       "    </tr>\n",
       "    <tr>\n",
       "      <th>4</th>\n",
       "      <td>Stimulation</td>\n",
       "      <td>1312</td>\n",
       "    </tr>\n",
       "    <tr>\n",
       "      <th>5</th>\n",
       "      <td>Binding</td>\n",
       "      <td>11438</td>\n",
       "    </tr>\n",
       "    <tr>\n",
       "      <th>6</th>\n",
       "      <td>Inhibition</td>\n",
       "      <td>2810</td>\n",
       "    </tr>\n",
       "    <tr>\n",
       "      <th>7</th>\n",
       "      <td>Conversion</td>\n",
       "      <td>2052</td>\n",
       "    </tr>\n",
       "    <tr>\n",
       "      <th>8</th>\n",
       "      <td>Catalysis</td>\n",
       "      <td>7133</td>\n",
       "    </tr>\n",
       "  </tbody>\n",
       "</table>\n",
       "</div>"
      ],
      "text/plain": [
       "           Interaction Type Interaction Count\n",
       "0       DirectedInteraction             44186\n",
       "1            ComplexBinding             11438\n",
       "2               Interaction             76840\n",
       "3  TranscriptionTranslation               508\n",
       "4               Stimulation              1312\n",
       "5                   Binding             11438\n",
       "6                Inhibition              2810\n",
       "7                Conversion              2052\n",
       "8                 Catalysis              7133"
      ]
     },
     "execution_count": 6,
     "metadata": {},
     "output_type": "execute_result"
    }
   ],
   "source": [
    "IntTypesCount"
   ]
  },
  {
   "cell_type": "markdown",
   "metadata": {},
   "source": [
    "# Interaction Count with Unspecified Type"
   ]
  },
  {
   "cell_type": "code",
   "execution_count": 7,
   "metadata": {},
   "outputs": [],
   "source": [
    "sparql = SPARQLWrapper(\"http://sparql.wikipathways.org\")\n",
    "Nonspecific = pandas.DataFrame(columns=['NonSpecified Interaction Type Count'])\n",
    "\n",
    "pathwayQuery = '''\n",
    "      SELECT DISTINCT (count(?entity) as ?NonSpecific)\n",
    "      WHERE {\n",
    "        ?entity a wp:Interaction . \n",
    "        MINUS { \n",
    "        { ?entity a wp:DirectedInteraction .  }\n",
    "          UNION\n",
    "        { ?entity a wp:ComplexBinding .  }\n",
    "          UNION\n",
    "        { ?entity a wp:Binding .  }\n",
    "        }\n",
    "      }  \n",
    "    '''\n",
    "sparql.setQuery(pathwayQuery)\n",
    "sparql.setReturnFormat(JSON)\n",
    "results = sparql.query().convert()\n",
    "\n",
    "for result in results[\"results\"][\"bindings\"]:\n",
    "\tNonspecific = Nonspecific.append({\n",
    "\t\t'NonSpecified Interaction Type Count': result[\"NonSpecific\"][\"value\"],\n",
    "\t }, ignore_index=True)"
   ]
  },
  {
   "cell_type": "code",
   "execution_count": 8,
   "metadata": {},
   "outputs": [
    {
     "data": {
      "text/html": [
       "<div>\n",
       "<style scoped>\n",
       "    .dataframe tbody tr th:only-of-type {\n",
       "        vertical-align: middle;\n",
       "    }\n",
       "\n",
       "    .dataframe tbody tr th {\n",
       "        vertical-align: top;\n",
       "    }\n",
       "\n",
       "    .dataframe thead th {\n",
       "        text-align: right;\n",
       "    }\n",
       "</style>\n",
       "<table border=\"1\" class=\"dataframe\">\n",
       "  <thead>\n",
       "    <tr style=\"text-align: right;\">\n",
       "      <th></th>\n",
       "      <th>NonSpecified Interaction Type Count</th>\n",
       "    </tr>\n",
       "  </thead>\n",
       "  <tbody>\n",
       "    <tr>\n",
       "      <th>0</th>\n",
       "      <td>21216</td>\n",
       "    </tr>\n",
       "  </tbody>\n",
       "</table>\n",
       "</div>"
      ],
      "text/plain": [
       "  NonSpecified Interaction Type Count\n",
       "0                               21216"
      ]
     },
     "execution_count": 8,
     "metadata": {},
     "output_type": "execute_result"
    }
   ],
   "source": [
    "Nonspecific"
   ]
  },
  {
   "cell_type": "markdown",
   "metadata": {},
   "source": [
    "# Participants for Interactions: "
   ]
  },
  {
   "cell_type": "code",
   "execution_count": 9,
   "metadata": {},
   "outputs": [],
   "source": [
    "sparql = SPARQLWrapper(\"http://sparql.wikipathways.org\")\n",
    "parts4Ints = pandas.DataFrame(columns=['Interaction', 'Interaction Type', 'Interaction Participants'])\n",
    "\n",
    "\n",
    "pathwayQuery = '''\n",
    "\n",
    "    SELECT DISTINCT (substr(str(?interaction),37 ) as ?interactionId ) (substr(str(?intType), 41 ) as ?types) (GROUP_CONCAT(DISTINCT substr(str(?partType),41), \", \") AS ?participants)  WHERE {\n",
    "       ?interaction a wp:Interaction ;\n",
    "           a ?intType .\n",
    "       ?interaction wp:participants ?participant .\n",
    "       ?participant a ?partType .\n",
    "\n",
    "       FILTER (?partType != wp:DataNode)\n",
    "       FILTER (?intType != wp:Interaction)\n",
    "    } \n",
    "    LIMIT 20\n",
    "    '''\n",
    "sparql.setQuery(pathwayQuery)\n",
    "sparql.setReturnFormat(JSON)\n",
    "results = sparql.query().convert()\n",
    "\n",
    "for result in results[\"results\"][\"bindings\"]:\n",
    "    parts4Ints = parts4Ints.append({\n",
    "        'Interaction': result[\"interactionId\"][\"value\"],\n",
    "        'Interaction Type': result[\"types\"][\"value\"],\n",
    "        'Interaction Participants': result[\"participants\"][\"value\"],\n",
    "       \n",
    "    }, ignore_index=True)"
   ]
  },
  {
   "cell_type": "code",
   "execution_count": 10,
   "metadata": {},
   "outputs": [
    {
     "data": {
      "text/html": [
       "<div>\n",
       "<style scoped>\n",
       "    .dataframe tbody tr th:only-of-type {\n",
       "        vertical-align: middle;\n",
       "    }\n",
       "\n",
       "    .dataframe tbody tr th {\n",
       "        vertical-align: top;\n",
       "    }\n",
       "\n",
       "    .dataframe thead th {\n",
       "        text-align: right;\n",
       "    }\n",
       "</style>\n",
       "<table border=\"1\" class=\"dataframe\">\n",
       "  <thead>\n",
       "    <tr style=\"text-align: right;\">\n",
       "      <th></th>\n",
       "      <th>Interaction</th>\n",
       "      <th>Interaction Type</th>\n",
       "      <th>Interaction Participants</th>\n",
       "    </tr>\n",
       "  </thead>\n",
       "  <tbody>\n",
       "    <tr>\n",
       "      <th>0</th>\n",
       "      <td>WP1918_r101319/WP/Interaction/fc1fb</td>\n",
       "      <td>DirectedInteraction</td>\n",
       "      <td>GeneProduct, Protein</td>\n",
       "    </tr>\n",
       "    <tr>\n",
       "      <th>1</th>\n",
       "      <td>WP2712_r101443/WP/Interaction/add44</td>\n",
       "      <td>DirectedInteraction</td>\n",
       "      <td>Metabolite</td>\n",
       "    </tr>\n",
       "    <tr>\n",
       "      <th>2</th>\n",
       "      <td>WP897_r78369/WP/Interaction/be448</td>\n",
       "      <td>DirectedInteraction</td>\n",
       "      <td>GeneProduct, Protein</td>\n",
       "    </tr>\n",
       "    <tr>\n",
       "      <th>3</th>\n",
       "      <td>WP3804_r101304/ComplexBinding/abb84</td>\n",
       "      <td>ComplexBinding</td>\n",
       "      <td>Complex, Protein</td>\n",
       "    </tr>\n",
       "    <tr>\n",
       "      <th>4</th>\n",
       "      <td>WP1852_r101581/ComplexBinding/b0d08</td>\n",
       "      <td>ComplexBinding</td>\n",
       "      <td>Complex, Metabolite, Protein</td>\n",
       "    </tr>\n",
       "    <tr>\n",
       "      <th>5</th>\n",
       "      <td>WP4190_r101730/WP/Interaction/idf0db6c0a</td>\n",
       "      <td>Conversion</td>\n",
       "      <td>Metabolite</td>\n",
       "    </tr>\n",
       "    <tr>\n",
       "      <th>6</th>\n",
       "      <td>WP1858_r101227/WP/Interaction/e65e4</td>\n",
       "      <td>DirectedInteraction</td>\n",
       "      <td>Complex, Metabolite</td>\n",
       "    </tr>\n",
       "    <tr>\n",
       "      <th>7</th>\n",
       "      <td>WP15_r98241/WP/Interaction/bfc6e</td>\n",
       "      <td>DirectedInteraction</td>\n",
       "      <td>GeneProduct, Metabolite, Protein</td>\n",
       "    </tr>\n",
       "    <tr>\n",
       "      <th>8</th>\n",
       "      <td>WP2032_r89823/WP/Interaction/id533b3dfe</td>\n",
       "      <td>DirectedInteraction</td>\n",
       "      <td>GeneProduct, Protein</td>\n",
       "    </tr>\n",
       "    <tr>\n",
       "      <th>9</th>\n",
       "      <td>WP2700_r101483/WP/Interaction/a5496</td>\n",
       "      <td>DirectedInteraction</td>\n",
       "      <td>Complex</td>\n",
       "    </tr>\n",
       "    <tr>\n",
       "      <th>10</th>\n",
       "      <td>WP2670_r101751/ComplexBinding/e48aa</td>\n",
       "      <td>Binding</td>\n",
       "      <td>Complex, Protein</td>\n",
       "    </tr>\n",
       "    <tr>\n",
       "      <th>11</th>\n",
       "      <td>WP2074_r101978/WP/Interaction/d7720</td>\n",
       "      <td>TranscriptionTranslation</td>\n",
       "      <td>GeneProduct</td>\n",
       "    </tr>\n",
       "    <tr>\n",
       "      <th>12</th>\n",
       "      <td>WP723_r89312/WP/Interaction/a5f0c</td>\n",
       "      <td>DirectedInteraction</td>\n",
       "      <td>GeneProduct</td>\n",
       "    </tr>\n",
       "    <tr>\n",
       "      <th>13</th>\n",
       "      <td>WP3336_r101326/WP/Interaction/b4f5c</td>\n",
       "      <td>DirectedInteraction</td>\n",
       "      <td>Complex, DirectedInteraction, Interaction</td>\n",
       "    </tr>\n",
       "    <tr>\n",
       "      <th>14</th>\n",
       "      <td>WP2670_r101751/WP/Interaction/e2a17</td>\n",
       "      <td>Catalysis</td>\n",
       "      <td>Complex, DirectedInteraction, Interaction</td>\n",
       "    </tr>\n",
       "    <tr>\n",
       "      <th>15</th>\n",
       "      <td>WP3817_r101557/WP/Interaction/a6bad</td>\n",
       "      <td>DirectedInteraction</td>\n",
       "      <td>Complex, Metabolite</td>\n",
       "    </tr>\n",
       "    <tr>\n",
       "      <th>16</th>\n",
       "      <td>WP2801_r101278/ComplexBinding/e4bfb</td>\n",
       "      <td>Binding</td>\n",
       "      <td>Complex, Protein</td>\n",
       "    </tr>\n",
       "    <tr>\n",
       "      <th>17</th>\n",
       "      <td>WP224_r89053/WP/Interaction/idef883e1f</td>\n",
       "      <td>Catalysis</td>\n",
       "      <td>Conversion, DirectedInteraction, GeneProduct, ...</td>\n",
       "    </tr>\n",
       "    <tr>\n",
       "      <th>18</th>\n",
       "      <td>WP4098_r101586/WP/Interaction/b5994</td>\n",
       "      <td>DirectedInteraction</td>\n",
       "      <td>Complex, DirectedInteraction, Interaction</td>\n",
       "    </tr>\n",
       "    <tr>\n",
       "      <th>19</th>\n",
       "      <td>WP1369_r87784/WP/Interaction/f9ac5</td>\n",
       "      <td>DirectedInteraction</td>\n",
       "      <td>GeneProduct</td>\n",
       "    </tr>\n",
       "  </tbody>\n",
       "</table>\n",
       "</div>"
      ],
      "text/plain": [
       "                                 Interaction          Interaction Type  \\\n",
       "0        WP1918_r101319/WP/Interaction/fc1fb       DirectedInteraction   \n",
       "1        WP2712_r101443/WP/Interaction/add44       DirectedInteraction   \n",
       "2          WP897_r78369/WP/Interaction/be448       DirectedInteraction   \n",
       "3        WP3804_r101304/ComplexBinding/abb84            ComplexBinding   \n",
       "4        WP1852_r101581/ComplexBinding/b0d08            ComplexBinding   \n",
       "5   WP4190_r101730/WP/Interaction/idf0db6c0a                Conversion   \n",
       "6        WP1858_r101227/WP/Interaction/e65e4       DirectedInteraction   \n",
       "7           WP15_r98241/WP/Interaction/bfc6e       DirectedInteraction   \n",
       "8    WP2032_r89823/WP/Interaction/id533b3dfe       DirectedInteraction   \n",
       "9        WP2700_r101483/WP/Interaction/a5496       DirectedInteraction   \n",
       "10       WP2670_r101751/ComplexBinding/e48aa                   Binding   \n",
       "11       WP2074_r101978/WP/Interaction/d7720  TranscriptionTranslation   \n",
       "12         WP723_r89312/WP/Interaction/a5f0c       DirectedInteraction   \n",
       "13       WP3336_r101326/WP/Interaction/b4f5c       DirectedInteraction   \n",
       "14       WP2670_r101751/WP/Interaction/e2a17                 Catalysis   \n",
       "15       WP3817_r101557/WP/Interaction/a6bad       DirectedInteraction   \n",
       "16       WP2801_r101278/ComplexBinding/e4bfb                   Binding   \n",
       "17    WP224_r89053/WP/Interaction/idef883e1f                 Catalysis   \n",
       "18       WP4098_r101586/WP/Interaction/b5994       DirectedInteraction   \n",
       "19        WP1369_r87784/WP/Interaction/f9ac5       DirectedInteraction   \n",
       "\n",
       "                             Interaction Participants  \n",
       "0                                GeneProduct, Protein  \n",
       "1                                          Metabolite  \n",
       "2                                GeneProduct, Protein  \n",
       "3                                    Complex, Protein  \n",
       "4                        Complex, Metabolite, Protein  \n",
       "5                                          Metabolite  \n",
       "6                                 Complex, Metabolite  \n",
       "7                    GeneProduct, Metabolite, Protein  \n",
       "8                                GeneProduct, Protein  \n",
       "9                                             Complex  \n",
       "10                                   Complex, Protein  \n",
       "11                                        GeneProduct  \n",
       "12                                        GeneProduct  \n",
       "13          Complex, DirectedInteraction, Interaction  \n",
       "14          Complex, DirectedInteraction, Interaction  \n",
       "15                                Complex, Metabolite  \n",
       "16                                   Complex, Protein  \n",
       "17  Conversion, DirectedInteraction, GeneProduct, ...  \n",
       "18          Complex, DirectedInteraction, Interaction  \n",
       "19                                        GeneProduct  "
      ]
     },
     "execution_count": 10,
     "metadata": {},
     "output_type": "execute_result"
    }
   ],
   "source": [
    "parts4Ints"
   ]
  },
  {
   "cell_type": "markdown",
   "metadata": {},
   "source": [
    "# Interaction counts by participants"
   ]
  },
  {
   "cell_type": "code",
   "execution_count": 11,
   "metadata": {},
   "outputs": [],
   "source": [
    "sparql = SPARQLWrapper(\"http://sparql.wikipathways.org\")\n",
    "IntCounts4Parts = pandas.DataFrame(columns=['Interaction Participants', 'Interaction Count'])\n",
    "\n",
    "pathwayQuery = '''\n",
    "\n",
    "    PREFIX gpml:    <http://vocabularies.wikipathways.org/gpml#>\n",
    "    PREFIX dcterms: <http://purl.org/dc/terms/>\n",
    "    PREFIX dc:      <http://purl.org/dc/elements/1.1/>\n",
    "    PREFIX rdf:     <http://www.w3.org/1999/02/22-rdf-syntax-ns#> \n",
    "\n",
    "    SELECT ?participants (COUNT(?interaction) AS ?count) WHERE {\n",
    "      SELECT ?interaction (GROUP_CONCAT(substr(str(?partType),41), \", \") AS ?participants) WHERE {\n",
    "        ?interaction a wp:Interaction . \n",
    "        ?interaction wp:participants ?participant .\n",
    "        ?participant a ?partType .\n",
    "        FILTER (?partType != wp:DataNode)\n",
    "      } GROUP BY ?interaction\n",
    "    } GROUP BY ?participants\n",
    "      ORDER BY DESC(?count)\n",
    "      LIMIT 20\n",
    "    '''\n",
    "sparql.setQuery(pathwayQuery)\n",
    "sparql.setReturnFormat(JSON)\n",
    "results = sparql.query().convert()\n",
    "\n",
    "for result in results[\"results\"][\"bindings\"]:\n",
    "    IntCounts4Parts = IntCounts4Parts.append({\n",
    "        'Interaction Participants': result[\"participants\"][\"value\"],\n",
    "        'Interaction Count': result[\"count\"][\"value\"],\n",
    "       \n",
    "    }, ignore_index=True)"
   ]
  },
  {
   "cell_type": "code",
   "execution_count": 12,
   "metadata": {},
   "outputs": [
    {
     "data": {
      "text/html": [
       "<div>\n",
       "<style scoped>\n",
       "    .dataframe tbody tr th:only-of-type {\n",
       "        vertical-align: middle;\n",
       "    }\n",
       "\n",
       "    .dataframe tbody tr th {\n",
       "        vertical-align: top;\n",
       "    }\n",
       "\n",
       "    .dataframe thead th {\n",
       "        text-align: right;\n",
       "    }\n",
       "</style>\n",
       "<table border=\"1\" class=\"dataframe\">\n",
       "  <thead>\n",
       "    <tr style=\"text-align: right;\">\n",
       "      <th></th>\n",
       "      <th>Interaction Participants</th>\n",
       "      <th>Interaction Count</th>\n",
       "    </tr>\n",
       "  </thead>\n",
       "  <tbody>\n",
       "    <tr>\n",
       "      <th>0</th>\n",
       "      <td>Metabolite, Metabolite</td>\n",
       "      <td>6231</td>\n",
       "    </tr>\n",
       "    <tr>\n",
       "      <th>1</th>\n",
       "      <td>GeneProduct, GeneProduct</td>\n",
       "      <td>6006</td>\n",
       "    </tr>\n",
       "    <tr>\n",
       "      <th>2</th>\n",
       "      <td>Complex, DirectedInteraction, Interaction</td>\n",
       "      <td>4547</td>\n",
       "    </tr>\n",
       "    <tr>\n",
       "      <th>3</th>\n",
       "      <td>GeneProduct, Protein, GeneProduct, Protein</td>\n",
       "      <td>2748</td>\n",
       "    </tr>\n",
       "    <tr>\n",
       "      <th>4</th>\n",
       "      <td>Metabolite</td>\n",
       "      <td>1753</td>\n",
       "    </tr>\n",
       "    <tr>\n",
       "      <th>5</th>\n",
       "      <td>Protein, Protein, Complex</td>\n",
       "      <td>1626</td>\n",
       "    </tr>\n",
       "    <tr>\n",
       "      <th>6</th>\n",
       "      <td>Protein, DirectedInteraction, Interaction</td>\n",
       "      <td>1447</td>\n",
       "    </tr>\n",
       "    <tr>\n",
       "      <th>7</th>\n",
       "      <td>Complex, Complex, Complex</td>\n",
       "      <td>1370</td>\n",
       "    </tr>\n",
       "    <tr>\n",
       "      <th>8</th>\n",
       "      <td>GeneProduct, Protein</td>\n",
       "      <td>1316</td>\n",
       "    </tr>\n",
       "    <tr>\n",
       "      <th>9</th>\n",
       "      <td>GeneProduct</td>\n",
       "      <td>1286</td>\n",
       "    </tr>\n",
       "    <tr>\n",
       "      <th>10</th>\n",
       "      <td>Metabolite, GeneProduct</td>\n",
       "      <td>1056</td>\n",
       "    </tr>\n",
       "    <tr>\n",
       "      <th>11</th>\n",
       "      <td>Metabolite, Metabolite, Metabolite, Metabolite</td>\n",
       "      <td>1025</td>\n",
       "    </tr>\n",
       "    <tr>\n",
       "      <th>12</th>\n",
       "      <td>Complex, Complex</td>\n",
       "      <td>957</td>\n",
       "    </tr>\n",
       "    <tr>\n",
       "      <th>13</th>\n",
       "      <td>GeneProduct, GeneProduct, Protein</td>\n",
       "      <td>916</td>\n",
       "    </tr>\n",
       "    <tr>\n",
       "      <th>14</th>\n",
       "      <td>Protein</td>\n",
       "      <td>880</td>\n",
       "    </tr>\n",
       "    <tr>\n",
       "      <th>15</th>\n",
       "      <td>Metabolite, Protein, Complex</td>\n",
       "      <td>785</td>\n",
       "    </tr>\n",
       "    <tr>\n",
       "      <th>16</th>\n",
       "      <td>DirectedInteraction, Interaction, GeneProduct</td>\n",
       "      <td>762</td>\n",
       "    </tr>\n",
       "    <tr>\n",
       "      <th>17</th>\n",
       "      <td>Complex, Complex, Protein</td>\n",
       "      <td>760</td>\n",
       "    </tr>\n",
       "    <tr>\n",
       "      <th>18</th>\n",
       "      <td>GeneProduct, Protein, GeneProduct</td>\n",
       "      <td>754</td>\n",
       "    </tr>\n",
       "    <tr>\n",
       "      <th>19</th>\n",
       "      <td>Metabolite, Metabolite, Complex, Complex</td>\n",
       "      <td>722</td>\n",
       "    </tr>\n",
       "  </tbody>\n",
       "</table>\n",
       "</div>"
      ],
      "text/plain": [
       "                          Interaction Participants Interaction Count\n",
       "0                           Metabolite, Metabolite              6231\n",
       "1                         GeneProduct, GeneProduct              6006\n",
       "2        Complex, DirectedInteraction, Interaction              4547\n",
       "3       GeneProduct, Protein, GeneProduct, Protein              2748\n",
       "4                                       Metabolite              1753\n",
       "5                        Protein, Protein, Complex              1626\n",
       "6        Protein, DirectedInteraction, Interaction              1447\n",
       "7                        Complex, Complex, Complex              1370\n",
       "8                             GeneProduct, Protein              1316\n",
       "9                                      GeneProduct              1286\n",
       "10                         Metabolite, GeneProduct              1056\n",
       "11  Metabolite, Metabolite, Metabolite, Metabolite              1025\n",
       "12                                Complex, Complex               957\n",
       "13               GeneProduct, GeneProduct, Protein               916\n",
       "14                                         Protein               880\n",
       "15                    Metabolite, Protein, Complex               785\n",
       "16   DirectedInteraction, Interaction, GeneProduct               762\n",
       "17                       Complex, Complex, Protein               760\n",
       "18               GeneProduct, Protein, GeneProduct               754\n",
       "19        Metabolite, Metabolite, Complex, Complex               722"
      ]
     },
     "execution_count": 12,
     "metadata": {},
     "output_type": "execute_result"
    }
   ],
   "source": [
    "IntCounts4Parts"
   ]
  },
  {
   "cell_type": "markdown",
   "metadata": {},
   "source": [
    "# Identifier IDs by data source"
   ]
  },
  {
   "cell_type": "code",
   "execution_count": 13,
   "metadata": {},
   "outputs": [],
   "source": [
    "sparql = SPARQLWrapper(\"http://sparql.wikipathways.org\")\n",
    "IntIDs = pandas.DataFrame(columns=['Database Source', 'Interactions Counted'])\n",
    "\n",
    "pathwayQuery = '''\n",
    "    PREFIX gpml:    <http://vocabularies.wikipathways.org/gpml#>\n",
    "    PREFIX dcterms: <http://purl.org/dc/terms/>\n",
    "    PREFIX dc:      <http://purl.org/dc/elements/1.1/>\n",
    "    PREFIX rdf:     <http://www.w3.org/1999/02/22-rdf-syntax-ns#> \n",
    "\n",
    "    SELECT Distinct (count(?Interaction) as ?IntCount) ?database \n",
    "       WHERE {\n",
    "          ?Interaction a gpml:Interaction ;\n",
    "             gpml:xrefDataSource ?database .\n",
    "          \n",
    "       } ORDER BY DESC(?IntCount)\n",
    "    '''\n",
    "sparql.setQuery(pathwayQuery)\n",
    "sparql.setReturnFormat(JSON)\n",
    "results = sparql.query().convert()\n",
    "\n",
    "for result in results[\"results\"][\"bindings\"]:\n",
    "\tIntIDs = IntIDs.append({\n",
    "\t\t'Database Source': result[\"database\"][\"value\"],\n",
    "        'Interactions Counted': result[\"IntCount\"][\"value\"],\n",
    "\t }, ignore_index=True)"
   ]
  },
  {
   "cell_type": "code",
   "execution_count": 14,
   "metadata": {},
   "outputs": [
    {
     "data": {
      "text/html": [
       "<div>\n",
       "<style scoped>\n",
       "    .dataframe tbody tr th:only-of-type {\n",
       "        vertical-align: middle;\n",
       "    }\n",
       "\n",
       "    .dataframe tbody tr th {\n",
       "        vertical-align: top;\n",
       "    }\n",
       "\n",
       "    .dataframe thead th {\n",
       "        text-align: right;\n",
       "    }\n",
       "</style>\n",
       "<table border=\"1\" class=\"dataframe\">\n",
       "  <thead>\n",
       "    <tr style=\"text-align: right;\">\n",
       "      <th></th>\n",
       "      <th>Database Source</th>\n",
       "      <th>Interactions Counted</th>\n",
       "    </tr>\n",
       "  </thead>\n",
       "  <tbody>\n",
       "    <tr>\n",
       "      <th>0</th>\n",
       "      <td>Reactome</td>\n",
       "      <td>63127</td>\n",
       "    </tr>\n",
       "    <tr>\n",
       "      <th>1</th>\n",
       "      <td>Uniprot-TrEMBL</td>\n",
       "      <td>213</td>\n",
       "    </tr>\n",
       "    <tr>\n",
       "      <th>2</th>\n",
       "      <td>KEGG Reaction</td>\n",
       "      <td>53</td>\n",
       "    </tr>\n",
       "    <tr>\n",
       "      <th>3</th>\n",
       "      <td>KEGG Pathway</td>\n",
       "      <td>28</td>\n",
       "    </tr>\n",
       "    <tr>\n",
       "      <th>4</th>\n",
       "      <td>WikiPathways</td>\n",
       "      <td>24</td>\n",
       "    </tr>\n",
       "    <tr>\n",
       "      <th>5</th>\n",
       "      <td>Rhea</td>\n",
       "      <td>11</td>\n",
       "    </tr>\n",
       "    <tr>\n",
       "      <th>6</th>\n",
       "      <td>pato</td>\n",
       "      <td>8</td>\n",
       "    </tr>\n",
       "    <tr>\n",
       "      <th>7</th>\n",
       "      <td>KEGG Compound</td>\n",
       "      <td>7</td>\n",
       "    </tr>\n",
       "    <tr>\n",
       "      <th>8</th>\n",
       "      <td>WormBase</td>\n",
       "      <td>6</td>\n",
       "    </tr>\n",
       "    <tr>\n",
       "      <th>9</th>\n",
       "      <td>ChEBI</td>\n",
       "      <td>6</td>\n",
       "    </tr>\n",
       "    <tr>\n",
       "      <th>10</th>\n",
       "      <td>XMetDB</td>\n",
       "      <td>2</td>\n",
       "    </tr>\n",
       "    <tr>\n",
       "      <th>11</th>\n",
       "      <td>SPIKE</td>\n",
       "      <td>2</td>\n",
       "    </tr>\n",
       "    <tr>\n",
       "      <th>12</th>\n",
       "      <td>BIND</td>\n",
       "      <td>1</td>\n",
       "    </tr>\n",
       "    <tr>\n",
       "      <th>13</th>\n",
       "      <td>Other</td>\n",
       "      <td>1</td>\n",
       "    </tr>\n",
       "    <tr>\n",
       "      <th>14</th>\n",
       "      <td>Di Giovanni</td>\n",
       "      <td>1</td>\n",
       "    </tr>\n",
       "  </tbody>\n",
       "</table>\n",
       "</div>"
      ],
      "text/plain": [
       "   Database Source Interactions Counted\n",
       "0         Reactome                63127\n",
       "1   Uniprot-TrEMBL                  213\n",
       "2    KEGG Reaction                   53\n",
       "3     KEGG Pathway                   28\n",
       "4     WikiPathways                   24\n",
       "5             Rhea                   11\n",
       "6             pato                    8\n",
       "7    KEGG Compound                    7\n",
       "8         WormBase                    6\n",
       "9            ChEBI                    6\n",
       "10          XMetDB                    2\n",
       "11           SPIKE                    2\n",
       "12            BIND                    1\n",
       "13           Other                    1\n",
       "14     Di Giovanni                    1"
      ]
     },
     "execution_count": 14,
     "metadata": {},
     "output_type": "execute_result"
    }
   ],
   "source": [
    "IntIDs"
   ]
  },
  {
   "cell_type": "markdown",
   "metadata": {},
   "source": [
    "# GPML RDF Interactions WITHOUT a WP RDF equivalent"
   ]
  },
  {
   "cell_type": "code",
   "execution_count": 15,
   "metadata": {},
   "outputs": [],
   "source": [
    "sparql = SPARQLWrapper(\"http://sparql.wikipathways.org\")\n",
    "noWPINT = pandas.DataFrame(columns=['Interactions Counted'])\n",
    "\n",
    "pathwayQuery = '''\n",
    "    PREFIX gpml:    <http://vocabularies.wikipathways.org/gpml#>\n",
    "    PREFIX dcterms: <http://purl.org/dc/terms/>\n",
    "    PREFIX dc:      <http://purl.org/dc/elements/1.1/>\n",
    "    PREFIX rdf:     <http://www.w3.org/1999/02/22-rdf-syntax-ns#> \n",
    "\n",
    "    SELECT (COUNT(?Interaction) AS ?count) \n",
    "    WHERE {\n",
    "\n",
    "          ?Interaction a gpml:Interaction .\n",
    "          MINUS {?wpInteraction wp:isAbout ?Interaction}\n",
    "\n",
    "        } \n",
    "          ORDER BY DESC(?count)\n",
    "    '''\n",
    "sparql.setQuery(pathwayQuery)\n",
    "sparql.setReturnFormat(JSON)\n",
    "results = sparql.query().convert()\n",
    "\n",
    "for result in results[\"results\"][\"bindings\"]:\n",
    "\tnoWPINT = noWPINT.append({\n",
    "        'Interactions Counted': result[\"count\"][\"value\"],\n",
    "\t }, ignore_index=True)"
   ]
  },
  {
   "cell_type": "code",
   "execution_count": 16,
   "metadata": {},
   "outputs": [
    {
     "data": {
      "text/html": [
       "<div>\n",
       "<style scoped>\n",
       "    .dataframe tbody tr th:only-of-type {\n",
       "        vertical-align: middle;\n",
       "    }\n",
       "\n",
       "    .dataframe tbody tr th {\n",
       "        vertical-align: top;\n",
       "    }\n",
       "\n",
       "    .dataframe thead th {\n",
       "        text-align: right;\n",
       "    }\n",
       "</style>\n",
       "<table border=\"1\" class=\"dataframe\">\n",
       "  <thead>\n",
       "    <tr style=\"text-align: right;\">\n",
       "      <th></th>\n",
       "      <th>Interactions Counted</th>\n",
       "    </tr>\n",
       "  </thead>\n",
       "  <tbody>\n",
       "    <tr>\n",
       "      <th>0</th>\n",
       "      <td>47536</td>\n",
       "    </tr>\n",
       "  </tbody>\n",
       "</table>\n",
       "</div>"
      ],
      "text/plain": [
       "  Interactions Counted\n",
       "0                47536"
      ]
     },
     "execution_count": 16,
     "metadata": {},
     "output_type": "execute_result"
    }
   ],
   "source": [
    "noWPINT"
   ]
  },
  {
   "cell_type": "markdown",
   "metadata": {},
   "source": [
    "# GPML RDF Interactions WITH a WP RDF equivalent and type"
   ]
  },
  {
   "cell_type": "code",
   "execution_count": 37,
   "metadata": {},
   "outputs": [],
   "source": [
    "sparql = SPARQLWrapper(\"http://sparql.wikipathways.org\")\n",
    "wpIntTypes = pandas.DataFrame(columns=['Interaction Type', 'Interactions Count'])\n",
    "\n",
    "pathwayQuery = '''\n",
    "    PREFIX gpml:    <http://vocabularies.wikipathways.org/gpml#>\n",
    "    PREFIX dcterms: <http://purl.org/dc/terms/>\n",
    "    PREFIX dc:      <http://purl.org/dc/elements/1.1/>\n",
    "    PREFIX rdf:     <http://www.w3.org/1999/02/22-rdf-syntax-ns#> \n",
    "\n",
    "    SELECT (substr(STR(?IntType),41) AS ?type)  (COUNT(?InteractionWP) AS ?count) \n",
    "    WHERE {\n",
    "\n",
    "        ?Interaction a gpml:Interaction .\n",
    "        #    gpml:xrefDataSource ?provenence .\n",
    "        ?InteractionWP  wp:isAbout ?Interaction ;\n",
    "            a ?IntType .\n",
    "\n",
    "        } GROUP BY ?IntType\n",
    "          ORDER BY DESC(?count)\n",
    "    '''\n",
    "sparql.setQuery(pathwayQuery)\n",
    "sparql.setReturnFormat(JSON)\n",
    "results = sparql.query().convert()\n",
    "\n",
    "for result in results[\"results\"][\"bindings\"]:\n",
    "\twpIntTypes = wpIntTypes.append({\n",
    "\t\t'Interaction Type': result[\"type\"][\"value\"],\n",
    "        'Interactions Count': result[\"count\"][\"value\"],\n",
    "\t }, ignore_index=True)"
   ]
  },
  {
   "cell_type": "code",
   "execution_count": 38,
   "metadata": {},
   "outputs": [
    {
     "data": {
      "text/html": [
       "<div>\n",
       "<style scoped>\n",
       "    .dataframe tbody tr th:only-of-type {\n",
       "        vertical-align: middle;\n",
       "    }\n",
       "\n",
       "    .dataframe tbody tr th {\n",
       "        vertical-align: top;\n",
       "    }\n",
       "\n",
       "    .dataframe thead th {\n",
       "        text-align: right;\n",
       "    }\n",
       "</style>\n",
       "<table border=\"1\" class=\"dataframe\">\n",
       "  <thead>\n",
       "    <tr style=\"text-align: right;\">\n",
       "      <th></th>\n",
       "      <th>Interaction Type</th>\n",
       "      <th>Interactions Count</th>\n",
       "    </tr>\n",
       "  </thead>\n",
       "  <tbody>\n",
       "    <tr>\n",
       "      <th>0</th>\n",
       "      <td>Interaction</td>\n",
       "      <td>110628</td>\n",
       "    </tr>\n",
       "    <tr>\n",
       "      <th>1</th>\n",
       "      <td>DirectedInteraction</td>\n",
       "      <td>89170</td>\n",
       "    </tr>\n",
       "    <tr>\n",
       "      <th>2</th>\n",
       "      <td>Catalysis</td>\n",
       "      <td>7133</td>\n",
       "    </tr>\n",
       "    <tr>\n",
       "      <th>3</th>\n",
       "      <td>Inhibition</td>\n",
       "      <td>2821</td>\n",
       "    </tr>\n",
       "    <tr>\n",
       "      <th>4</th>\n",
       "      <td>Conversion</td>\n",
       "      <td>2477</td>\n",
       "    </tr>\n",
       "    <tr>\n",
       "      <th>5</th>\n",
       "      <td>Stimulation</td>\n",
       "      <td>1320</td>\n",
       "    </tr>\n",
       "    <tr>\n",
       "      <th>6</th>\n",
       "      <td>TranscriptionTranslation</td>\n",
       "      <td>542</td>\n",
       "    </tr>\n",
       "  </tbody>\n",
       "</table>\n",
       "</div>"
      ],
      "text/plain": [
       "           Interaction Type Interactions Count\n",
       "0               Interaction             110628\n",
       "1       DirectedInteraction              89170\n",
       "2                 Catalysis               7133\n",
       "3                Inhibition               2821\n",
       "4                Conversion               2477\n",
       "5               Stimulation               1320\n",
       "6  TranscriptionTranslation                542"
      ]
     },
     "execution_count": 38,
     "metadata": {},
     "output_type": "execute_result"
    }
   ],
   "source": [
    "wpIntTypes"
   ]
  },
  {
   "cell_type": "markdown",
   "metadata": {},
   "source": [
    "# Coverage % for GPML Interaction with Equivalent WP RDF out of Total GPML Interactions"
   ]
  },
  {
   "cell_type": "code",
   "execution_count": 19,
   "metadata": {},
   "outputs": [],
   "source": [
    "IntTable = wpIntTypes.loc[:,\"Interactions Count\"]\n",
    "wpInteractionType = IntTable.apply(pandas.to_numeric, errors='ignore').sum() \n",
    "noWPIntTable = noWPINT.loc[:,'Interactions Counted']\n",
    "noWPIntIneger = noWPIntTable.apply(pandas.to_numeric, errors = 'ignore').sum()\n",
    "totalWPInt = noWPIntIneger + wpInteractionType\n",
    "coverageInt = (wpInteractionType / totalWPInt) * 100\n",
    "formPercentInt = str(round(coverageInt, 3)) + \"% of GPML Interactions with an WP equivalent\""
   ]
  },
  {
   "cell_type": "code",
   "execution_count": 20,
   "metadata": {},
   "outputs": [
    {
     "data": {
      "text/plain": [
       "'0.0% of GPML Interactions with an WP equivalent'"
      ]
     },
     "execution_count": 20,
     "metadata": {},
     "output_type": "execute_result"
    }
   ],
   "source": [
    "formPercentInt"
   ]
  },
  {
   "cell_type": "code",
   "execution_count": 21,
   "metadata": {},
   "outputs": [
    {
     "data": {
      "text/plain": [
       "'100.0% of GPML Interactions without a WP equivalent'"
      ]
     },
     "execution_count": 21,
     "metadata": {},
     "output_type": "execute_result"
    }
   ],
   "source": [
    "percentWoInt = 100 - coverageInt\n",
    "str(round(percentWoInt, 3)) + \"% of GPML Interactions without a WP equivalent\""
   ]
  },
  {
   "cell_type": "markdown",
   "metadata": {},
   "source": [
    "# Total GPML Interactions"
   ]
  },
  {
   "cell_type": "code",
   "execution_count": 22,
   "metadata": {},
   "outputs": [],
   "source": [
    "sparql = SPARQLWrapper(\"http://sparql.wikipathways.org\")\n",
    "GPMLCountTotal = pandas.DataFrame(columns=['Interactions Count'])\n",
    "\n",
    "pathwayQuery = '''\n",
    "    PREFIX gpml:    <http://vocabularies.wikipathways.org/gpml#>\n",
    "    PREFIX dcterms: <http://purl.org/dc/terms/>\n",
    "    PREFIX dc:      <http://purl.org/dc/elements/1.1/>\n",
    "    PREFIX rdf:     <http://www.w3.org/1999/02/22-rdf-syntax-ns#> \n",
    "\n",
    "    SELECT DISTINCT (COUNT(?Interaction) AS ?count) \n",
    "    WHERE {\n",
    "\n",
    "          ?Interaction a gpml:Interaction .\n",
    "          \n",
    "        } \n",
    "    '''\n",
    "sparql.setQuery(pathwayQuery)\n",
    "sparql.setReturnFormat(JSON)\n",
    "results = sparql.query().convert()\n",
    "\n",
    "for result in results[\"results\"][\"bindings\"]:\n",
    "\tGPMLCountTotal = GPMLCountTotal.append({\n",
    "        'Interactions Count': result[\"count\"][\"value\"],\n",
    "\t }, ignore_index=True)\n",
    "\n",
    "GPMLCountTotalInt = GPMLCountTotal.loc[:,\"Interactions Count\"].apply(pandas.to_numeric, errors = 'ignore').sum() "
   ]
  },
  {
   "cell_type": "code",
   "execution_count": 23,
   "metadata": {},
   "outputs": [
    {
     "data": {
      "text/plain": [
       "157446"
      ]
     },
     "execution_count": 23,
     "metadata": {},
     "output_type": "execute_result"
    }
   ],
   "source": [
    "GPMLCountTotalInt"
   ]
  },
  {
   "cell_type": "markdown",
   "metadata": {},
   "source": [
    "# % of WP RDF Interactions that are of unspecified type"
   ]
  },
  {
   "cell_type": "code",
   "execution_count": 24,
   "metadata": {},
   "outputs": [],
   "source": [
    "sparql = SPARQLWrapper(\"http://sparql.wikipathways.org\")\n",
    "IntTotalCount = pandas.DataFrame(columns=['Interaction Count'])\n",
    "\n",
    "pathwayQuery = '''\n",
    "      SELECT DISTINCT (COUNT(?genInteraction) as ?IntCount)\n",
    "      WHERE {\n",
    "        ?genInteraction a wp:Interaction . \n",
    "      }\n",
    "    '''\n",
    "sparql.setQuery(pathwayQuery)\n",
    "sparql.setReturnFormat(JSON)\n",
    "results = sparql.query().convert()\n",
    "\n",
    "for result in results[\"results\"][\"bindings\"]:\n",
    "\tIntTotalCount = IntTotalCount.append({\n",
    "        'Interaction Count': result[\"IntCount\"][\"value\"],\n",
    "\t }, ignore_index=True)\n",
    "\n",
    "NonSpecificTable = Nonspecific.loc[:,\"NonSpecified Interaction Type Count\"]\n",
    "NonSpecificInteger = NonSpecificTable.apply(pandas.to_numeric, errors = 'ignore').sum()\n",
    "TotalInteractions = IntTotalCount.loc[:, \"Interaction Count\"].apply(pandas.to_numeric, errors = 'ignore').sum() \n",
    "percentNonSpecific = (NonSpecificInteger / TotalInteractions) * 100\n",
    "formPercentNonSpecific = str(round(percentNonSpecific,3)) + '% of WP RDF Interaction with Unspecified Interaction Type'"
   ]
  },
  {
   "cell_type": "code",
   "execution_count": 25,
   "metadata": {},
   "outputs": [
    {
     "data": {
      "text/plain": [
       "'27.611% of WP RDF Interaction with Unspecified Interaction Type'"
      ]
     },
     "execution_count": 25,
     "metadata": {},
     "output_type": "execute_result"
    }
   ],
   "source": [
    "formPercentNonSpecific"
   ]
  },
  {
   "cell_type": "code",
   "execution_count": 26,
   "metadata": {},
   "outputs": [
    {
     "data": {
      "text/plain": [
       "'72.389% of WP RDF Interactions with a specific WP RDF Interaction type'"
      ]
     },
     "execution_count": 26,
     "metadata": {},
     "output_type": "execute_result"
    }
   ],
   "source": [
    "percentWSpecificType = 100 - percentNonSpecific\n",
    "str(round(percentWSpecificType, 3)) + \"% of WP RDF Interactions with a specific WP RDF Interaction type\""
   ]
  },
  {
   "cell_type": "markdown",
   "metadata": {},
   "source": [
    "# % of NonDirected Interactions"
   ]
  },
  {
   "cell_type": "code",
   "execution_count": 27,
   "metadata": {},
   "outputs": [],
   "source": [
    "NonDirectedInteger = NonDirected.loc[:, \"NonDirected Interactions Count\"].apply(pandas.to_numeric, errors = 'ignore').sum() \n",
    "percentNonDirected = (NonDirectedInteger / TotalInteractions) * 100\n",
    "#check this number\n",
    "formPercentNonDirected = str(round(percentNonDirected, 3)) + '% of Non-directed interaction in WP RDF'"
   ]
  },
  {
   "cell_type": "code",
   "execution_count": 28,
   "metadata": {},
   "outputs": [
    {
     "data": {
      "text/plain": [
       "'42.496% of Non-directed interaction in WP RDF'"
      ]
     },
     "execution_count": 28,
     "metadata": {},
     "output_type": "execute_result"
    }
   ],
   "source": [
    "formPercentNonDirected"
   ]
  },
  {
   "cell_type": "code",
   "execution_count": 29,
   "metadata": {},
   "outputs": [
    {
     "data": {
      "text/plain": [
       "(44186, 11438, 76840, 508, 1312, 11438, 2810, 2052, 7133)"
      ]
     },
     "execution_count": 29,
     "metadata": {},
     "output_type": "execute_result"
    }
   ],
   "source": [
    "ConversionCount = int(IntTypesCount.iloc[0][\"Interaction Count\"])\n",
    "BindingCount = int(IntTypesCount.iloc[1][\"Interaction Count\"])\n",
    "InteractionWPRDFCount = int(IntTypesCount.iloc[2][\"Interaction Count\"])\n",
    "DirectedWPRDFCount = int(IntTypesCount.iloc[3][\"Interaction Count\"])\n",
    "CatalysisCount = int(IntTypesCount.iloc[4][\"Interaction Count\"])\n",
    "TranscrTranslaCount = int(IntTypesCount.iloc[5][\"Interaction Count\"])\n",
    "complexCount = int(IntTypesCount.iloc[6][\"Interaction Count\"])\n",
    "InhibitionCount = int(IntTypesCount.iloc[7][\"Interaction Count\"])\n",
    "stimulationCount = int(IntTypesCount.iloc[8][\"Interaction Count\"])\n",
    "\n",
    "ConversionCount, BindingCount, InteractionWPRDFCount, DirectedWPRDFCount, CatalysisCount, TranscrTranslaCount, complexCount, InhibitionCount, stimulationCount"
   ]
  },
  {
   "cell_type": "code",
   "execution_count": 30,
   "metadata": {},
   "outputs": [
    {
     "data": {
      "text/html": [
       "<div>\n",
       "<style scoped>\n",
       "    .dataframe tbody tr th:only-of-type {\n",
       "        vertical-align: middle;\n",
       "    }\n",
       "\n",
       "    .dataframe tbody tr th {\n",
       "        vertical-align: top;\n",
       "    }\n",
       "\n",
       "    .dataframe thead th {\n",
       "        text-align: right;\n",
       "    }\n",
       "</style>\n",
       "<table border=\"1\" class=\"dataframe\">\n",
       "  <thead>\n",
       "    <tr style=\"text-align: right;\">\n",
       "      <th></th>\n",
       "      <th>Interaction Type</th>\n",
       "      <th>Interaction Count</th>\n",
       "    </tr>\n",
       "  </thead>\n",
       "  <tbody>\n",
       "    <tr>\n",
       "      <th>0</th>\n",
       "      <td>DirectedInteraction</td>\n",
       "      <td>44186</td>\n",
       "    </tr>\n",
       "    <tr>\n",
       "      <th>1</th>\n",
       "      <td>ComplexBinding</td>\n",
       "      <td>11438</td>\n",
       "    </tr>\n",
       "    <tr>\n",
       "      <th>2</th>\n",
       "      <td>Interaction</td>\n",
       "      <td>76840</td>\n",
       "    </tr>\n",
       "    <tr>\n",
       "      <th>3</th>\n",
       "      <td>TranscriptionTranslation</td>\n",
       "      <td>508</td>\n",
       "    </tr>\n",
       "    <tr>\n",
       "      <th>4</th>\n",
       "      <td>Stimulation</td>\n",
       "      <td>1312</td>\n",
       "    </tr>\n",
       "    <tr>\n",
       "      <th>5</th>\n",
       "      <td>Binding</td>\n",
       "      <td>11438</td>\n",
       "    </tr>\n",
       "    <tr>\n",
       "      <th>6</th>\n",
       "      <td>Inhibition</td>\n",
       "      <td>2810</td>\n",
       "    </tr>\n",
       "    <tr>\n",
       "      <th>7</th>\n",
       "      <td>Conversion</td>\n",
       "      <td>2052</td>\n",
       "    </tr>\n",
       "    <tr>\n",
       "      <th>8</th>\n",
       "      <td>Catalysis</td>\n",
       "      <td>7133</td>\n",
       "    </tr>\n",
       "  </tbody>\n",
       "</table>\n",
       "</div>"
      ],
      "text/plain": [
       "           Interaction Type Interaction Count\n",
       "0       DirectedInteraction             44186\n",
       "1            ComplexBinding             11438\n",
       "2               Interaction             76840\n",
       "3  TranscriptionTranslation               508\n",
       "4               Stimulation              1312\n",
       "5                   Binding             11438\n",
       "6                Inhibition              2810\n",
       "7                Conversion              2052\n",
       "8                 Catalysis              7133"
      ]
     },
     "execution_count": 30,
     "metadata": {},
     "output_type": "execute_result"
    }
   ],
   "source": [
    "IntTypesCount"
   ]
  },
  {
   "cell_type": "code",
   "execution_count": 31,
   "metadata": {},
   "outputs": [
    {
     "data": {
      "text/plain": [
       "('1.785% of complex interactions out of all GPML Interactions',\n",
       " '3.657% of complex interactions out of all WP Interactions')"
      ]
     },
     "execution_count": 31,
     "metadata": {},
     "output_type": "execute_result"
    }
   ],
   "source": [
    "#noWPIntIneger without eq\n",
    "#GPMLCountTotalInt GPML Total\n",
    "percentComplex = (complexCount / GPMLCountTotalInt ) * 100\n",
    "formpercentComplex = str(round(percentComplex, 3)) + '% of complex interactions out of all GPML Interactions'\n",
    "percentComplexWPRDF = (complexCount / formTotalWPInts) * 100\n",
    "formpercentComplexWPRDF = str(round(percentComplexWPRDF, 3)) + '% of complex interactions out of all WP Interactions'\n",
    "formpercentComplex,  formpercentComplexWPRDF"
   ]
  },
  {
   "cell_type": "code",
   "execution_count": 32,
   "metadata": {},
   "outputs": [
    {
     "data": {
      "text/plain": [
       "('57.504% of conversion interactions out of all WP Interactions',\n",
       " '14.885% of binding interactions out of all WP Interactions')"
      ]
     },
     "execution_count": 32,
     "metadata": {},
     "output_type": "execute_result"
    }
   ],
   "source": [
    "#complexCount = int(IntTypesCount.iloc[6][\"Interaction Count\"])\n",
    "PercentConversionCount = (ConversionCount / formTotalWPInts) * 100\n",
    "formPercentConversionCount = str(round(PercentConversionCount, 3)) + '% of conversion interactions out of all WP Interactions'\n",
    "PercentBindingCount = (BindingCount / formTotalWPInts) * 100\n",
    "formPercentBindingCount = str(round(PercentBindingCount, 3)) + '% of binding interactions out of all WP Interactions'\n",
    "formPercentConversionCount, formPercentBindingCount"
   ]
  },
  {
   "cell_type": "code",
   "execution_count": null,
   "metadata": {},
   "outputs": [],
   "source": []
  },
  {
   "cell_type": "code",
   "execution_count": 39,
   "metadata": {},
   "outputs": [
    {
     "data": {
      "text/html": [
       "<div>\n",
       "<style scoped>\n",
       "    .dataframe tbody tr th:only-of-type {\n",
       "        vertical-align: middle;\n",
       "    }\n",
       "\n",
       "    .dataframe tbody tr th {\n",
       "        vertical-align: top;\n",
       "    }\n",
       "\n",
       "    .dataframe thead th {\n",
       "        text-align: right;\n",
       "    }\n",
       "</style>\n",
       "<table border=\"1\" class=\"dataframe\">\n",
       "  <thead>\n",
       "    <tr style=\"text-align: right;\">\n",
       "      <th></th>\n",
       "      <th>Interaction Type</th>\n",
       "      <th>Interaction Count</th>\n",
       "    </tr>\n",
       "  </thead>\n",
       "  <tbody>\n",
       "    <tr>\n",
       "      <th>0</th>\n",
       "      <td>DirectedInteraction</td>\n",
       "      <td>44186</td>\n",
       "    </tr>\n",
       "    <tr>\n",
       "      <th>1</th>\n",
       "      <td>ComplexBinding</td>\n",
       "      <td>11438</td>\n",
       "    </tr>\n",
       "    <tr>\n",
       "      <th>2</th>\n",
       "      <td>Interaction</td>\n",
       "      <td>76840</td>\n",
       "    </tr>\n",
       "    <tr>\n",
       "      <th>3</th>\n",
       "      <td>TranscriptionTranslation</td>\n",
       "      <td>508</td>\n",
       "    </tr>\n",
       "    <tr>\n",
       "      <th>4</th>\n",
       "      <td>Stimulation</td>\n",
       "      <td>1312</td>\n",
       "    </tr>\n",
       "    <tr>\n",
       "      <th>5</th>\n",
       "      <td>Binding</td>\n",
       "      <td>11438</td>\n",
       "    </tr>\n",
       "    <tr>\n",
       "      <th>6</th>\n",
       "      <td>Inhibition</td>\n",
       "      <td>2810</td>\n",
       "    </tr>\n",
       "    <tr>\n",
       "      <th>7</th>\n",
       "      <td>Conversion</td>\n",
       "      <td>2052</td>\n",
       "    </tr>\n",
       "    <tr>\n",
       "      <th>8</th>\n",
       "      <td>Catalysis</td>\n",
       "      <td>7133</td>\n",
       "    </tr>\n",
       "  </tbody>\n",
       "</table>\n",
       "</div>"
      ],
      "text/plain": [
       "           Interaction Type Interaction Count\n",
       "0       DirectedInteraction             44186\n",
       "1            ComplexBinding             11438\n",
       "2               Interaction             76840\n",
       "3  TranscriptionTranslation               508\n",
       "4               Stimulation              1312\n",
       "5                   Binding             11438\n",
       "6                Inhibition              2810\n",
       "7                Conversion              2052\n",
       "8                 Catalysis              7133"
      ]
     },
     "execution_count": 39,
     "metadata": {},
     "output_type": "execute_result"
    }
   ],
   "source": [
    "IntTypesCount"
   ]
  },
  {
   "cell_type": "code",
   "execution_count": 35,
   "metadata": {},
   "outputs": [
    {
     "data": {
      "text/plain": [
       "(  Total WP Interactions\n",
       " 0                 76840, 157446)"
      ]
     },
     "execution_count": 35,
     "metadata": {},
     "output_type": "execute_result"
    }
   ],
   "source": [
    "totalWPInts, GPMLCountTotalInt"
   ]
  },
  {
   "cell_type": "code",
   "execution_count": null,
   "metadata": {},
   "outputs": [],
   "source": []
  }
 ],
 "metadata": {
  "kernelspec": {
   "display_name": "Python 3",
   "language": "python",
   "name": "python3"
  },
  "language_info": {
   "codemirror_mode": {
    "name": "ipython",
    "version": 3
   },
   "file_extension": ".py",
   "mimetype": "text/x-python",
   "name": "python",
   "nbconvert_exporter": "python",
   "pygments_lexer": "ipython3",
   "version": "3.6.3"
  }
 },
 "nbformat": 4,
 "nbformat_minor": 2
}
