{
 "cells": [
  {
   "cell_type": "markdown",
   "metadata": {},
   "source": [
    "# Number of Non-Directed Interactions"
   ]
  },
  {
   "cell_type": "code",
   "execution_count": 133,
   "metadata": {},
   "outputs": [],
   "source": [
    "from pip._internal import main as pip\n",
    "try:\n",
    "    import csv\n",
    "except ImportError:\n",
    "    pip(['install', 'csv'])\n",
    "    import csv\n",
    "try:\n",
    "    from SPARQLWrapper import SPARQLWrapper, JSON\n",
    "except  ImportError:\n",
    "    pip(['install', 'sparqlwrapper'])\n",
    "    from SPARQLWrapper import SPARQLWrapper, JSON\n",
    "    \n",
    "import pandas\n",
    "    \n",
    "sparql = SPARQLWrapper(\"http://sparql.wikipathways.org\")\n",
    "NonDirected = pandas.DataFrame(columns=['NonDirected Interactions Count'])\n",
    "pathwayQuery = '''\n",
    "      SELECT DISTINCT (count(?entity) as ?NonDirectInt)\n",
    "      WHERE {\n",
    "        ?entity a wp:Interaction . \n",
    "        MINUS { ?entity a wp:DirectedInteraction .}\n",
    "      }  \n",
    "    '''\n",
    "sparql.setQuery(pathwayQuery)\n",
    "sparql.setReturnFormat(JSON)\n",
    "results = sparql.query().convert()\n",
    "\n",
    "for result in results[\"results\"][\"bindings\"]:\n",
    "\tNonDirected = NonDirected.append({\n",
    "\t\t'NonDirected Interactions Count': result[\"NonDirectInt\"][\"value\"],\n",
    "\t }, ignore_index=True)"
   ]
  },
  {
   "cell_type": "code",
   "execution_count": 134,
   "metadata": {},
   "outputs": [
    {
     "data": {
      "text/html": [
       "<div>\n",
       "<table border=\"1\" class=\"dataframe\">\n",
       "  <thead>\n",
       "    <tr style=\"text-align: right;\">\n",
       "      <th></th>\n",
       "      <th>NonDirected Interactions Count</th>\n",
       "    </tr>\n",
       "  </thead>\n",
       "  <tbody>\n",
       "    <tr>\n",
       "      <th>0</th>\n",
       "      <td>32164</td>\n",
       "    </tr>\n",
       "  </tbody>\n",
       "</table>\n",
       "</div>"
      ],
      "text/plain": [
       "  NonDirected Interactions Count\n",
       "0                          32164"
      ]
     },
     "execution_count": 134,
     "metadata": {},
     "output_type": "execute_result"
    }
   ],
   "source": [
    "NonDirected"
   ]
  },
  {
   "cell_type": "markdown",
   "metadata": {},
   "source": [
    "# Count of Interaction Types"
   ]
  },
  {
   "cell_type": "code",
   "execution_count": 135,
   "metadata": {},
   "outputs": [],
   "source": [
    "sparql = SPARQLWrapper(\"http://sparql.wikipathways.org\")\n",
    "IntTypesCount = pandas.DataFrame(columns=['Interaction Type', 'Interaction Count'])\n",
    "\n",
    "pathwayQuery = '''\n",
    "      SELECT (substr(str(?o),41) as ?IntType) (COUNT(?o) as ?IntCount)\n",
    "      WHERE {\n",
    "        ?entity a ?o . \n",
    "        ?entity a wp:Interaction . \n",
    "      } GROUP BY ?o\n",
    "    '''\n",
    "sparql.setQuery(pathwayQuery)\n",
    "sparql.setReturnFormat(JSON)\n",
    "results = sparql.query().convert()\n",
    "\n",
    "for result in results[\"results\"][\"bindings\"]:\n",
    "\tIntTypesCount = IntTypesCount.append({\n",
    "\t\t'Interaction Type': result[\"IntType\"][\"value\"],\n",
    "        'Interaction Count': result[\"IntCount\"][\"value\"],\n",
    "\t }, ignore_index=True)"
   ]
  },
  {
   "cell_type": "code",
   "execution_count": 136,
   "metadata": {},
   "outputs": [
    {
     "data": {
      "text/html": [
       "<div>\n",
       "<table border=\"1\" class=\"dataframe\">\n",
       "  <thead>\n",
       "    <tr style=\"text-align: right;\">\n",
       "      <th></th>\n",
       "      <th>Interaction Type</th>\n",
       "      <th>Interaction Count</th>\n",
       "    </tr>\n",
       "  </thead>\n",
       "  <tbody>\n",
       "    <tr>\n",
       "      <th>0</th>\n",
       "      <td>Conversion</td>\n",
       "      <td>1761</td>\n",
       "    </tr>\n",
       "    <tr>\n",
       "      <th>1</th>\n",
       "      <td>Binding</td>\n",
       "      <td>11034</td>\n",
       "    </tr>\n",
       "    <tr>\n",
       "      <th>2</th>\n",
       "      <td>Interaction</td>\n",
       "      <td>75046</td>\n",
       "    </tr>\n",
       "    <tr>\n",
       "      <th>3</th>\n",
       "      <td>DirectedInteraction</td>\n",
       "      <td>42882</td>\n",
       "    </tr>\n",
       "    <tr>\n",
       "      <th>4</th>\n",
       "      <td>Catalysis</td>\n",
       "      <td>7063</td>\n",
       "    </tr>\n",
       "    <tr>\n",
       "      <th>5</th>\n",
       "      <td>TranscriptionTranslation</td>\n",
       "      <td>497</td>\n",
       "    </tr>\n",
       "    <tr>\n",
       "      <th>6</th>\n",
       "      <td>ComplexBinding</td>\n",
       "      <td>11034</td>\n",
       "    </tr>\n",
       "    <tr>\n",
       "      <th>7</th>\n",
       "      <td>Inhibition</td>\n",
       "      <td>2722</td>\n",
       "    </tr>\n",
       "    <tr>\n",
       "      <th>8</th>\n",
       "      <td>Stimulation</td>\n",
       "      <td>1286</td>\n",
       "    </tr>\n",
       "  </tbody>\n",
       "</table>\n",
       "</div>"
      ],
      "text/plain": [
       "           Interaction Type Interaction Count\n",
       "0                Conversion              1761\n",
       "1                   Binding             11034\n",
       "2               Interaction             75046\n",
       "3       DirectedInteraction             42882\n",
       "4                 Catalysis              7063\n",
       "5  TranscriptionTranslation               497\n",
       "6            ComplexBinding             11034\n",
       "7                Inhibition              2722\n",
       "8               Stimulation              1286"
      ]
     },
     "execution_count": 136,
     "metadata": {},
     "output_type": "execute_result"
    }
   ],
   "source": [
    "IntTypesCount"
   ]
  },
  {
   "cell_type": "markdown",
   "metadata": {},
   "source": [
    "# Interaction Count with Unspecified Type"
   ]
  },
  {
   "cell_type": "code",
   "execution_count": 137,
   "metadata": {},
   "outputs": [],
   "source": [
    "sparql = SPARQLWrapper(\"http://sparql.wikipathways.org\")\n",
    "Nonspecific = pandas.DataFrame(columns=['NonSpecified Interaction Type Count'])\n",
    "\n",
    "pathwayQuery = '''\n",
    "      SELECT DISTINCT (count(?entity) as ?NonSpecific)\n",
    "      WHERE {\n",
    "        ?entity a wp:Interaction . \n",
    "        MINUS { \n",
    "        { ?entity a wp:DirectedInteraction .  }\n",
    "          UNION\n",
    "        { ?entity a wp:ComplexBinding .  }\n",
    "        }\n",
    "      }  \n",
    "    '''\n",
    "sparql.setQuery(pathwayQuery)\n",
    "sparql.setReturnFormat(JSON)\n",
    "results = sparql.query().convert()\n",
    "\n",
    "for result in results[\"results\"][\"bindings\"]:\n",
    "\tNonspecific = Nonspecific.append({\n",
    "\t\t'NonSpecified Interaction Type Count': result[\"NonSpecific\"][\"value\"],\n",
    "\t }, ignore_index=True)"
   ]
  },
  {
   "cell_type": "code",
   "execution_count": 138,
   "metadata": {},
   "outputs": [
    {
     "data": {
      "text/html": [
       "<div>\n",
       "<table border=\"1\" class=\"dataframe\">\n",
       "  <thead>\n",
       "    <tr style=\"text-align: right;\">\n",
       "      <th></th>\n",
       "      <th>NonSpecified Interaction Type Count</th>\n",
       "    </tr>\n",
       "  </thead>\n",
       "  <tbody>\n",
       "    <tr>\n",
       "      <th>0</th>\n",
       "      <td>21130</td>\n",
       "    </tr>\n",
       "  </tbody>\n",
       "</table>\n",
       "</div>"
      ],
      "text/plain": [
       "  NonSpecified Interaction Type Count\n",
       "0                               21130"
      ]
     },
     "execution_count": 138,
     "metadata": {},
     "output_type": "execute_result"
    }
   ],
   "source": [
    "Nonspecific"
   ]
  },
  {
   "cell_type": "markdown",
   "metadata": {},
   "source": [
    "# Participants for Interactions: "
   ]
  },
  {
   "cell_type": "code",
   "execution_count": 139,
   "metadata": {},
   "outputs": [],
   "source": [
    "sparql = SPARQLWrapper(\"http://sparql.wikipathways.org\")\n",
    "parts4Ints = pandas.DataFrame(columns=['Interaction', 'Interaction Type', 'Interaction Participants'])\n",
    "\n",
    "\n",
    "pathwayQuery = '''\n",
    "\n",
    "    SELECT DISTINCT (substr(str(?interaction),37 ) as ?interactionId ) (substr(str(?intType), 41 ) as ?types) (GROUP_CONCAT(DISTINCT substr(str(?partType),41), \", \") AS ?participants)  WHERE {\n",
    "       ?interaction a wp:Interaction ;\n",
    "           a ?intType .\n",
    "       ?interaction wp:participants ?participant .\n",
    "       ?participant a ?partType .\n",
    "\n",
    "       FILTER (?partType != wp:DataNode)\n",
    "       FILTER (?intType != wp:Interaction)\n",
    "    } \n",
    "    LIMIT 20\n",
    "    '''\n",
    "sparql.setQuery(pathwayQuery)\n",
    "sparql.setReturnFormat(JSON)\n",
    "results = sparql.query().convert()\n",
    "\n",
    "for result in results[\"results\"][\"bindings\"]:\n",
    "    parts4Ints = parts4Ints.append({\n",
    "        'Interaction': result[\"interactionId\"][\"value\"],\n",
    "        'Interaction Type': result[\"types\"][\"value\"],\n",
    "        'Interaction Participants': result[\"participants\"][\"value\"],\n",
    "       \n",
    "    }, ignore_index=True)"
   ]
  },
  {
   "cell_type": "code",
   "execution_count": 140,
   "metadata": {},
   "outputs": [
    {
     "data": {
      "text/html": [
       "<div>\n",
       "<table border=\"1\" class=\"dataframe\">\n",
       "  <thead>\n",
       "    <tr style=\"text-align: right;\">\n",
       "      <th></th>\n",
       "      <th>Interaction</th>\n",
       "      <th>Interaction Type</th>\n",
       "      <th>Interaction Participants</th>\n",
       "    </tr>\n",
       "  </thead>\n",
       "  <tbody>\n",
       "    <tr>\n",
       "      <th>0</th>\n",
       "      <td>WP3354_r94015/ComplexBinding/a8a0b</td>\n",
       "      <td>ComplexBinding</td>\n",
       "      <td>Complex, Metabolite, Protein</td>\n",
       "    </tr>\n",
       "    <tr>\n",
       "      <th>1</th>\n",
       "      <td>WP2533_r98235/WP/Interaction/e1d3e</td>\n",
       "      <td>DirectedInteraction</td>\n",
       "      <td>Metabolite</td>\n",
       "    </tr>\n",
       "    <tr>\n",
       "      <th>2</th>\n",
       "      <td>WP1333_r88657/ComplexBinding/e6af2</td>\n",
       "      <td>ComplexBinding</td>\n",
       "      <td>Complex, GeneProduct</td>\n",
       "    </tr>\n",
       "    <tr>\n",
       "      <th>3</th>\n",
       "      <td>WP3305_r93778/ComplexBinding/eaca5</td>\n",
       "      <td>Binding</td>\n",
       "      <td>Complex, GeneProduct, Protein</td>\n",
       "    </tr>\n",
       "    <tr>\n",
       "      <th>4</th>\n",
       "      <td>WP1971_r98351/WP/Interaction/idfeabdadc</td>\n",
       "      <td>Stimulation</td>\n",
       "      <td>Protein</td>\n",
       "    </tr>\n",
       "    <tr>\n",
       "      <th>5</th>\n",
       "      <td>WP4124_r93627/WP/Interaction/ef2df</td>\n",
       "      <td>DirectedInteraction</td>\n",
       "      <td>DirectedInteraction, Interaction, Protein</td>\n",
       "    </tr>\n",
       "    <tr>\n",
       "      <th>6</th>\n",
       "      <td>WP2650_r93953/WP/Interaction/c2ec5</td>\n",
       "      <td>DirectedInteraction</td>\n",
       "      <td>Metabolite</td>\n",
       "    </tr>\n",
       "    <tr>\n",
       "      <th>7</th>\n",
       "      <td>WP3271_r89935/WP/Interaction/ed8f2</td>\n",
       "      <td>DirectedInteraction</td>\n",
       "      <td>GeneProduct, Protein</td>\n",
       "    </tr>\n",
       "    <tr>\n",
       "      <th>8</th>\n",
       "      <td>WP1817_r87151/WP/Interaction/ef7cc</td>\n",
       "      <td>DirectedInteraction</td>\n",
       "      <td>Complex, DirectedInteraction, Interaction</td>\n",
       "    </tr>\n",
       "    <tr>\n",
       "      <th>9</th>\n",
       "      <td>WP3338_r94045/WP/Interaction/e11b7</td>\n",
       "      <td>DirectedInteraction</td>\n",
       "      <td>Complex, Metabolite</td>\n",
       "    </tr>\n",
       "    <tr>\n",
       "      <th>10</th>\n",
       "      <td>WP3828_r94497/WP/Interaction/ad394</td>\n",
       "      <td>DirectedInteraction</td>\n",
       "      <td>Metabolite</td>\n",
       "    </tr>\n",
       "    <tr>\n",
       "      <th>11</th>\n",
       "      <td>WP3309_r94037/WP/Interaction/f5c7d</td>\n",
       "      <td>DirectedInteraction</td>\n",
       "      <td>Complex, Metabolite</td>\n",
       "    </tr>\n",
       "    <tr>\n",
       "      <th>12</th>\n",
       "      <td>WP1833_r93804/ComplexBinding/c7862</td>\n",
       "      <td>ComplexBinding</td>\n",
       "      <td>Complex, Protein</td>\n",
       "    </tr>\n",
       "    <tr>\n",
       "      <th>13</th>\n",
       "      <td>WP880_r96307/WP/Interaction/f9069</td>\n",
       "      <td>DirectedInteraction</td>\n",
       "      <td>GeneProduct</td>\n",
       "    </tr>\n",
       "    <tr>\n",
       "      <th>14</th>\n",
       "      <td>WP3394_r93993/WP/Interaction/d435f</td>\n",
       "      <td>DirectedInteraction</td>\n",
       "      <td>Complex, GeneProduct, Metabolite, Protein</td>\n",
       "    </tr>\n",
       "    <tr>\n",
       "      <th>15</th>\n",
       "      <td>WP3571_r93841/WP/Interaction/b2720</td>\n",
       "      <td>DirectedInteraction</td>\n",
       "      <td>Complex</td>\n",
       "    </tr>\n",
       "    <tr>\n",
       "      <th>16</th>\n",
       "      <td>WP3658_r97640/WP/Interaction/id21531969</td>\n",
       "      <td>Inhibition</td>\n",
       "      <td>GeneProduct</td>\n",
       "    </tr>\n",
       "    <tr>\n",
       "      <th>17</th>\n",
       "      <td>WP3336_r94046/ComplexBinding/ac916</td>\n",
       "      <td>Binding</td>\n",
       "      <td>Complex, Protein</td>\n",
       "    </tr>\n",
       "    <tr>\n",
       "      <th>18</th>\n",
       "      <td>WP3298_r91618/WP/Interaction/id5132d414</td>\n",
       "      <td>Catalysis</td>\n",
       "      <td>Conversion, DirectedInteraction, GeneProduct, ...</td>\n",
       "    </tr>\n",
       "    <tr>\n",
       "      <th>19</th>\n",
       "      <td>WP3813_r93879/WP/Interaction/e4674</td>\n",
       "      <td>DirectedInteraction</td>\n",
       "      <td>Protein, Rna</td>\n",
       "    </tr>\n",
       "  </tbody>\n",
       "</table>\n",
       "</div>"
      ],
      "text/plain": [
       "                                Interaction     Interaction Type  \\\n",
       "0        WP3354_r94015/ComplexBinding/a8a0b       ComplexBinding   \n",
       "1        WP2533_r98235/WP/Interaction/e1d3e  DirectedInteraction   \n",
       "2        WP1333_r88657/ComplexBinding/e6af2       ComplexBinding   \n",
       "3        WP3305_r93778/ComplexBinding/eaca5              Binding   \n",
       "4   WP1971_r98351/WP/Interaction/idfeabdadc          Stimulation   \n",
       "5        WP4124_r93627/WP/Interaction/ef2df  DirectedInteraction   \n",
       "6        WP2650_r93953/WP/Interaction/c2ec5  DirectedInteraction   \n",
       "7        WP3271_r89935/WP/Interaction/ed8f2  DirectedInteraction   \n",
       "8        WP1817_r87151/WP/Interaction/ef7cc  DirectedInteraction   \n",
       "9        WP3338_r94045/WP/Interaction/e11b7  DirectedInteraction   \n",
       "10       WP3828_r94497/WP/Interaction/ad394  DirectedInteraction   \n",
       "11       WP3309_r94037/WP/Interaction/f5c7d  DirectedInteraction   \n",
       "12       WP1833_r93804/ComplexBinding/c7862       ComplexBinding   \n",
       "13        WP880_r96307/WP/Interaction/f9069  DirectedInteraction   \n",
       "14       WP3394_r93993/WP/Interaction/d435f  DirectedInteraction   \n",
       "15       WP3571_r93841/WP/Interaction/b2720  DirectedInteraction   \n",
       "16  WP3658_r97640/WP/Interaction/id21531969           Inhibition   \n",
       "17       WP3336_r94046/ComplexBinding/ac916              Binding   \n",
       "18  WP3298_r91618/WP/Interaction/id5132d414            Catalysis   \n",
       "19       WP3813_r93879/WP/Interaction/e4674  DirectedInteraction   \n",
       "\n",
       "                             Interaction Participants  \n",
       "0                        Complex, Metabolite, Protein  \n",
       "1                                          Metabolite  \n",
       "2                                Complex, GeneProduct  \n",
       "3                       Complex, GeneProduct, Protein  \n",
       "4                                             Protein  \n",
       "5           DirectedInteraction, Interaction, Protein  \n",
       "6                                          Metabolite  \n",
       "7                                GeneProduct, Protein  \n",
       "8           Complex, DirectedInteraction, Interaction  \n",
       "9                                 Complex, Metabolite  \n",
       "10                                         Metabolite  \n",
       "11                                Complex, Metabolite  \n",
       "12                                   Complex, Protein  \n",
       "13                                        GeneProduct  \n",
       "14          Complex, GeneProduct, Metabolite, Protein  \n",
       "15                                            Complex  \n",
       "16                                        GeneProduct  \n",
       "17                                   Complex, Protein  \n",
       "18  Conversion, DirectedInteraction, GeneProduct, ...  \n",
       "19                                       Protein, Rna  "
      ]
     },
     "execution_count": 140,
     "metadata": {},
     "output_type": "execute_result"
    }
   ],
   "source": [
    "parts4Ints"
   ]
  },
  {
   "cell_type": "markdown",
   "metadata": {},
   "source": [
    "# Interaction counts by participants"
   ]
  },
  {
   "cell_type": "code",
   "execution_count": 141,
   "metadata": {},
   "outputs": [],
   "source": [
    "sparql = SPARQLWrapper(\"http://sparql.wikipathways.org\")\n",
    "IntCounts4Parts = pandas.DataFrame(columns=['Interaction Participants', 'Interaction Count'])\n",
    "\n",
    "pathwayQuery = '''\n",
    "\n",
    "    PREFIX gpml:    <http://vocabularies.wikipathways.org/gpml#>\n",
    "    PREFIX dcterms: <http://purl.org/dc/terms/>\n",
    "    PREFIX dc:      <http://purl.org/dc/elements/1.1/>\n",
    "    PREFIX rdf:     <http://www.w3.org/1999/02/22-rdf-syntax-ns#> \n",
    "\n",
    "    SELECT ?participants (COUNT(?interaction) AS ?count) WHERE {\n",
    "      SELECT ?interaction (GROUP_CONCAT(substr(str(?partType),41), \", \") AS ?participants) WHERE {\n",
    "        ?interaction a wp:Interaction . \n",
    "        ?interaction wp:participants ?participant .\n",
    "        ?participant a ?partType .\n",
    "        FILTER (?partType != wp:DataNode)\n",
    "      } GROUP BY ?interaction\n",
    "    } GROUP BY ?participants\n",
    "      ORDER BY DESC(?count)\n",
    "      LIMIT 20\n",
    "    '''\n",
    "sparql.setQuery(pathwayQuery)\n",
    "sparql.setReturnFormat(JSON)\n",
    "results = sparql.query().convert()\n",
    "\n",
    "for result in results[\"results\"][\"bindings\"]:\n",
    "    IntCounts4Parts = IntCounts4Parts.append({\n",
    "        'Interaction Participants': result[\"participants\"][\"value\"],\n",
    "        'Interaction Count': result[\"count\"][\"value\"],\n",
    "       \n",
    "    }, ignore_index=True)"
   ]
  },
  {
   "cell_type": "code",
   "execution_count": 142,
   "metadata": {},
   "outputs": [
    {
     "data": {
      "text/html": [
       "<div>\n",
       "<table border=\"1\" class=\"dataframe\">\n",
       "  <thead>\n",
       "    <tr style=\"text-align: right;\">\n",
       "      <th></th>\n",
       "      <th>Interaction Participants</th>\n",
       "      <th>Interaction Count</th>\n",
       "    </tr>\n",
       "  </thead>\n",
       "  <tbody>\n",
       "    <tr>\n",
       "      <th>0</th>\n",
       "      <td>GeneProduct, GeneProduct</td>\n",
       "      <td>6071</td>\n",
       "    </tr>\n",
       "    <tr>\n",
       "      <th>1</th>\n",
       "      <td>Metabolite, Metabolite</td>\n",
       "      <td>5692</td>\n",
       "    </tr>\n",
       "    <tr>\n",
       "      <th>2</th>\n",
       "      <td>Complex, DirectedInteraction, Interaction</td>\n",
       "      <td>2973</td>\n",
       "    </tr>\n",
       "    <tr>\n",
       "      <th>3</th>\n",
       "      <td>Protein, GeneProduct, Protein, GeneProduct</td>\n",
       "      <td>2680</td>\n",
       "    </tr>\n",
       "    <tr>\n",
       "      <th>4</th>\n",
       "      <td>DirectedInteraction, Interaction, Complex</td>\n",
       "      <td>1940</td>\n",
       "    </tr>\n",
       "    <tr>\n",
       "      <th>5</th>\n",
       "      <td>Metabolite</td>\n",
       "      <td>1720</td>\n",
       "    </tr>\n",
       "    <tr>\n",
       "      <th>6</th>\n",
       "      <td>Complex, Complex, Complex</td>\n",
       "      <td>1324</td>\n",
       "    </tr>\n",
       "    <tr>\n",
       "      <th>7</th>\n",
       "      <td>GeneProduct</td>\n",
       "      <td>1238</td>\n",
       "    </tr>\n",
       "    <tr>\n",
       "      <th>8</th>\n",
       "      <td>Metabolite, Metabolite, Metabolite, Metabolite</td>\n",
       "      <td>1114</td>\n",
       "    </tr>\n",
       "    <tr>\n",
       "      <th>9</th>\n",
       "      <td>GeneProduct, Protein, GeneProduct</td>\n",
       "      <td>1014</td>\n",
       "    </tr>\n",
       "    <tr>\n",
       "      <th>10</th>\n",
       "      <td>Complex, Complex, Protein</td>\n",
       "      <td>961</td>\n",
       "    </tr>\n",
       "    <tr>\n",
       "      <th>11</th>\n",
       "      <td>Complex, Complex</td>\n",
       "      <td>954</td>\n",
       "    </tr>\n",
       "    <tr>\n",
       "      <th>12</th>\n",
       "      <td>Protein, GeneProduct</td>\n",
       "      <td>924</td>\n",
       "    </tr>\n",
       "    <tr>\n",
       "      <th>13</th>\n",
       "      <td>Protein</td>\n",
       "      <td>887</td>\n",
       "    </tr>\n",
       "    <tr>\n",
       "      <th>14</th>\n",
       "      <td>Complex, Protein, Protein</td>\n",
       "      <td>838</td>\n",
       "    </tr>\n",
       "    <tr>\n",
       "      <th>15</th>\n",
       "      <td>Protein, DirectedInteraction, Interaction</td>\n",
       "      <td>802</td>\n",
       "    </tr>\n",
       "    <tr>\n",
       "      <th>16</th>\n",
       "      <td>Protein, Protein, Complex</td>\n",
       "      <td>794</td>\n",
       "    </tr>\n",
       "    <tr>\n",
       "      <th>17</th>\n",
       "      <td>Metabolite, GeneProduct</td>\n",
       "      <td>720</td>\n",
       "    </tr>\n",
       "    <tr>\n",
       "      <th>18</th>\n",
       "      <td>DirectedInteraction, Interaction, Protein</td>\n",
       "      <td>718</td>\n",
       "    </tr>\n",
       "    <tr>\n",
       "      <th>19</th>\n",
       "      <td>DirectedInteraction, Interaction, GeneProduct</td>\n",
       "      <td>682</td>\n",
       "    </tr>\n",
       "  </tbody>\n",
       "</table>\n",
       "</div>"
      ],
      "text/plain": [
       "                          Interaction Participants Interaction Count\n",
       "0                         GeneProduct, GeneProduct              6071\n",
       "1                           Metabolite, Metabolite              5692\n",
       "2        Complex, DirectedInteraction, Interaction              2973\n",
       "3       Protein, GeneProduct, Protein, GeneProduct              2680\n",
       "4        DirectedInteraction, Interaction, Complex              1940\n",
       "5                                       Metabolite              1720\n",
       "6                        Complex, Complex, Complex              1324\n",
       "7                                      GeneProduct              1238\n",
       "8   Metabolite, Metabolite, Metabolite, Metabolite              1114\n",
       "9                GeneProduct, Protein, GeneProduct              1014\n",
       "10                       Complex, Complex, Protein               961\n",
       "11                                Complex, Complex               954\n",
       "12                            Protein, GeneProduct               924\n",
       "13                                         Protein               887\n",
       "14                       Complex, Protein, Protein               838\n",
       "15       Protein, DirectedInteraction, Interaction               802\n",
       "16                       Protein, Protein, Complex               794\n",
       "17                         Metabolite, GeneProduct               720\n",
       "18       DirectedInteraction, Interaction, Protein               718\n",
       "19   DirectedInteraction, Interaction, GeneProduct               682"
      ]
     },
     "execution_count": 142,
     "metadata": {},
     "output_type": "execute_result"
    }
   ],
   "source": [
    "IntCounts4Parts"
   ]
  },
  {
   "cell_type": "markdown",
   "metadata": {},
   "source": [
    "# Identifier IDs by data source"
   ]
  },
  {
   "cell_type": "code",
   "execution_count": 143,
   "metadata": {},
   "outputs": [],
   "source": [
    "sparql = SPARQLWrapper(\"http://sparql.wikipathways.org\")\n",
    "IntIDs = pandas.DataFrame(columns=['Database Source', 'Interactions Counted'])\n",
    "\n",
    "pathwayQuery = '''\n",
    "    PREFIX gpml:    <http://vocabularies.wikipathways.org/gpml#>\n",
    "    PREFIX dcterms: <http://purl.org/dc/terms/>\n",
    "    PREFIX dc:      <http://purl.org/dc/elements/1.1/>\n",
    "    PREFIX rdf:     <http://www.w3.org/1999/02/22-rdf-syntax-ns#> \n",
    "\n",
    "    SELECT Distinct (count(?Interaction) as ?IntCount) ?database \n",
    "       WHERE {\n",
    "          ?Interaction a gpml:Interaction ;\n",
    "             gpml:xrefDataSource ?database .\n",
    "          \n",
    "       } ORDER BY DESC(?IntCount)\n",
    "    '''\n",
    "sparql.setQuery(pathwayQuery)\n",
    "sparql.setReturnFormat(JSON)\n",
    "results = sparql.query().convert()\n",
    "\n",
    "for result in results[\"results\"][\"bindings\"]:\n",
    "\tIntIDs = IntIDs.append({\n",
    "\t\t'Database Source': result[\"database\"][\"value\"],\n",
    "        'Interactions Counted': result[\"IntCount\"][\"value\"],\n",
    "\t }, ignore_index=True)"
   ]
  },
  {
   "cell_type": "code",
   "execution_count": 144,
   "metadata": {},
   "outputs": [
    {
     "data": {
      "text/html": [
       "<div>\n",
       "<table border=\"1\" class=\"dataframe\">\n",
       "  <thead>\n",
       "    <tr style=\"text-align: right;\">\n",
       "      <th></th>\n",
       "      <th>Database Source</th>\n",
       "      <th>Interactions Counted</th>\n",
       "    </tr>\n",
       "  </thead>\n",
       "  <tbody>\n",
       "    <tr>\n",
       "      <th>0</th>\n",
       "      <td>Reactome</td>\n",
       "      <td>62638</td>\n",
       "    </tr>\n",
       "    <tr>\n",
       "      <th>1</th>\n",
       "      <td>Uniprot-TrEMBL</td>\n",
       "      <td>213</td>\n",
       "    </tr>\n",
       "    <tr>\n",
       "      <th>2</th>\n",
       "      <td>KEGG Reaction</td>\n",
       "      <td>53</td>\n",
       "    </tr>\n",
       "    <tr>\n",
       "      <th>3</th>\n",
       "      <td>KEGG Pathway</td>\n",
       "      <td>29</td>\n",
       "    </tr>\n",
       "    <tr>\n",
       "      <th>4</th>\n",
       "      <td>WikiPathways</td>\n",
       "      <td>24</td>\n",
       "    </tr>\n",
       "    <tr>\n",
       "      <th>5</th>\n",
       "      <td>Rhea</td>\n",
       "      <td>11</td>\n",
       "    </tr>\n",
       "    <tr>\n",
       "      <th>6</th>\n",
       "      <td>pato</td>\n",
       "      <td>8</td>\n",
       "    </tr>\n",
       "    <tr>\n",
       "      <th>7</th>\n",
       "      <td>kegg.compound</td>\n",
       "      <td>8</td>\n",
       "    </tr>\n",
       "    <tr>\n",
       "      <th>8</th>\n",
       "      <td>WormBase</td>\n",
       "      <td>6</td>\n",
       "    </tr>\n",
       "    <tr>\n",
       "      <th>9</th>\n",
       "      <td>ChEBI</td>\n",
       "      <td>6</td>\n",
       "    </tr>\n",
       "    <tr>\n",
       "      <th>10</th>\n",
       "      <td>XMetDB</td>\n",
       "      <td>2</td>\n",
       "    </tr>\n",
       "    <tr>\n",
       "      <th>11</th>\n",
       "      <td>SPIKE</td>\n",
       "      <td>2</td>\n",
       "    </tr>\n",
       "    <tr>\n",
       "      <th>12</th>\n",
       "      <td>Other</td>\n",
       "      <td>1</td>\n",
       "    </tr>\n",
       "    <tr>\n",
       "      <th>13</th>\n",
       "      <td>BIND</td>\n",
       "      <td>1</td>\n",
       "    </tr>\n",
       "  </tbody>\n",
       "</table>\n",
       "</div>"
      ],
      "text/plain": [
       "   Database Source Interactions Counted\n",
       "0         Reactome                62638\n",
       "1   Uniprot-TrEMBL                  213\n",
       "2    KEGG Reaction                   53\n",
       "3     KEGG Pathway                   29\n",
       "4     WikiPathways                   24\n",
       "5             Rhea                   11\n",
       "6             pato                    8\n",
       "7    kegg.compound                    8\n",
       "8         WormBase                    6\n",
       "9            ChEBI                    6\n",
       "10          XMetDB                    2\n",
       "11           SPIKE                    2\n",
       "12           Other                    1\n",
       "13            BIND                    1"
      ]
     },
     "execution_count": 144,
     "metadata": {},
     "output_type": "execute_result"
    }
   ],
   "source": [
    "IntIDs"
   ]
  },
  {
   "cell_type": "markdown",
   "metadata": {},
   "source": [
    "# GPML RDF Interactions WITHOUT a WP RDF equivalent"
   ]
  },
  {
   "cell_type": "code",
   "execution_count": 145,
   "metadata": {},
   "outputs": [],
   "source": [
    "sparql = SPARQLWrapper(\"http://sparql.wikipathways.org\")\n",
    "noWPINT = pandas.DataFrame(columns=['Interactions Counted'])\n",
    "\n",
    "pathwayQuery = '''\n",
    "    PREFIX gpml:    <http://vocabularies.wikipathways.org/gpml#>\n",
    "    PREFIX dcterms: <http://purl.org/dc/terms/>\n",
    "    PREFIX dc:      <http://purl.org/dc/elements/1.1/>\n",
    "    PREFIX rdf:     <http://www.w3.org/1999/02/22-rdf-syntax-ns#> \n",
    "\n",
    "    SELECT (COUNT(?Interaction) AS ?count) \n",
    "    WHERE {\n",
    "\n",
    "          ?Interaction a gpml:Interaction .\n",
    "          MINUS {?wpInteraction wp:isAbout ?Interaction}\n",
    "\n",
    "        } \n",
    "          ORDER BY DESC(?count)\n",
    "    '''\n",
    "sparql.setQuery(pathwayQuery)\n",
    "sparql.setReturnFormat(JSON)\n",
    "results = sparql.query().convert()\n",
    "\n",
    "for result in results[\"results\"][\"bindings\"]:\n",
    "\tnoWPINT = noWPINT.append({\n",
    "        'Interactions Counted': result[\"count\"][\"value\"],\n",
    "\t }, ignore_index=True)"
   ]
  },
  {
   "cell_type": "code",
   "execution_count": 146,
   "metadata": {},
   "outputs": [
    {
     "data": {
      "text/html": [
       "<div>\n",
       "<table border=\"1\" class=\"dataframe\">\n",
       "  <thead>\n",
       "    <tr style=\"text-align: right;\">\n",
       "      <th></th>\n",
       "      <th>Interactions Counted</th>\n",
       "    </tr>\n",
       "  </thead>\n",
       "  <tbody>\n",
       "    <tr>\n",
       "      <th>0</th>\n",
       "      <td>46869</td>\n",
       "    </tr>\n",
       "  </tbody>\n",
       "</table>\n",
       "</div>"
      ],
      "text/plain": [
       "  Interactions Counted\n",
       "0                46869"
      ]
     },
     "execution_count": 146,
     "metadata": {},
     "output_type": "execute_result"
    }
   ],
   "source": [
    "noWPINT"
   ]
  },
  {
   "cell_type": "markdown",
   "metadata": {},
   "source": [
    "# GPML RDF Interactions WITH a WP RDF equivalent and type"
   ]
  },
  {
   "cell_type": "code",
   "execution_count": 147,
   "metadata": {},
   "outputs": [],
   "source": [
    "sparql = SPARQLWrapper(\"http://sparql.wikipathways.org\")\n",
    "wpIntTypes = pandas.DataFrame(columns=['Interaction Type', 'Interactions Count'])\n",
    "\n",
    "pathwayQuery = '''\n",
    "    PREFIX gpml:    <http://vocabularies.wikipathways.org/gpml#>\n",
    "    PREFIX dcterms: <http://purl.org/dc/terms/>\n",
    "    PREFIX dc:      <http://purl.org/dc/elements/1.1/>\n",
    "    PREFIX rdf:     <http://www.w3.org/1999/02/22-rdf-syntax-ns#> \n",
    "\n",
    "    SELECT (substr(STR(?IntType),41) AS ?type) (COUNT(?InteractionWP) AS ?count) \n",
    "    WHERE {\n",
    "\n",
    "          ?Interaction a gpml:Interaction .\n",
    "          ?InteractionWP  wp:isAbout ?Interaction ;\n",
    "            a ?IntType .\n",
    "\n",
    "        } GROUP BY ?IntType\n",
    "          ORDER BY DESC(?count)\n",
    "    '''\n",
    "sparql.setQuery(pathwayQuery)\n",
    "sparql.setReturnFormat(JSON)\n",
    "results = sparql.query().convert()\n",
    "\n",
    "for result in results[\"results\"][\"bindings\"]:\n",
    "\twpIntTypes = wpIntTypes.append({\n",
    "\t\t'Interaction Type': result[\"type\"][\"value\"],\n",
    "        'Interactions Count': result[\"count\"][\"value\"],\n",
    "\t }, ignore_index=True)"
   ]
  },
  {
   "cell_type": "code",
   "execution_count": 148,
   "metadata": {},
   "outputs": [
    {
     "data": {
      "text/html": [
       "<div>\n",
       "<table border=\"1\" class=\"dataframe\">\n",
       "  <thead>\n",
       "    <tr style=\"text-align: right;\">\n",
       "      <th></th>\n",
       "      <th>Interaction Type</th>\n",
       "      <th>Interactions Count</th>\n",
       "    </tr>\n",
       "  </thead>\n",
       "  <tbody>\n",
       "    <tr>\n",
       "      <th>0</th>\n",
       "      <td>Interaction</td>\n",
       "      <td>108746</td>\n",
       "    </tr>\n",
       "    <tr>\n",
       "      <th>1</th>\n",
       "      <td>DirectedInteraction</td>\n",
       "      <td>87372</td>\n",
       "    </tr>\n",
       "    <tr>\n",
       "      <th>2</th>\n",
       "      <td>Catalysis</td>\n",
       "      <td>7063</td>\n",
       "    </tr>\n",
       "    <tr>\n",
       "      <th>3</th>\n",
       "      <td>Inhibition</td>\n",
       "      <td>2733</td>\n",
       "    </tr>\n",
       "    <tr>\n",
       "      <th>4</th>\n",
       "      <td>Conversion</td>\n",
       "      <td>2167</td>\n",
       "    </tr>\n",
       "    <tr>\n",
       "      <th>5</th>\n",
       "      <td>Stimulation</td>\n",
       "      <td>1294</td>\n",
       "    </tr>\n",
       "    <tr>\n",
       "      <th>6</th>\n",
       "      <td>TranscriptionTranslation</td>\n",
       "      <td>531</td>\n",
       "    </tr>\n",
       "  </tbody>\n",
       "</table>\n",
       "</div>"
      ],
      "text/plain": [
       "           Interaction Type Interactions Count\n",
       "0               Interaction             108746\n",
       "1       DirectedInteraction              87372\n",
       "2                 Catalysis               7063\n",
       "3                Inhibition               2733\n",
       "4                Conversion               2167\n",
       "5               Stimulation               1294\n",
       "6  TranscriptionTranslation                531"
      ]
     },
     "execution_count": 148,
     "metadata": {},
     "output_type": "execute_result"
    }
   ],
   "source": [
    "wpIntTypes"
   ]
  },
  {
   "cell_type": "markdown",
   "metadata": {},
   "source": [
    "# Coverage % for GPML Interaction with Equivalent WP RDF out of Total GPML Interactions"
   ]
  },
  {
   "cell_type": "code",
   "execution_count": 149,
   "metadata": {},
   "outputs": [],
   "source": [
    "IntTable = wpIntTypes.loc[:,\"Interactions Count\"]\n",
    "wpInteractionType = IntTable.apply(pandas.to_numeric, errors='ignore').sum() \n",
    "noWPIntTable = noWPINT.loc[:,'Interactions Counted']\n",
    "noWPIntIneger = noWPIntTable.apply(pandas.to_numeric, errors = 'ignore').sum()\n",
    "totalWPInt = noWPIntIneger + wpInteractionType\n",
    "coverageInt = (wpInteractionType / totalWPInt) * 100\n",
    "formPercentInt = str(round(coverageInt, 3)) + \"% of GPML Interactions with an WP equivalent\""
   ]
  },
  {
   "cell_type": "code",
   "execution_count": 150,
   "metadata": {},
   "outputs": [
    {
     "data": {
      "text/plain": [
       "'81.747% of GPML Interactions with an WP equivalent'"
      ]
     },
     "execution_count": 150,
     "metadata": {},
     "output_type": "execute_result"
    }
   ],
   "source": [
    "formPercentInt"
   ]
  },
  {
   "cell_type": "markdown",
   "metadata": {},
   "source": [
    "# % of WP RDF Interactions that are of unspecified type"
   ]
  },
  {
   "cell_type": "code",
   "execution_count": 151,
   "metadata": {},
   "outputs": [],
   "source": [
    "sparql = SPARQLWrapper(\"http://sparql.wikipathways.org\")\n",
    "IntTotalCount = pandas.DataFrame(columns=['Interaction Count'])\n",
    "\n",
    "pathwayQuery = '''\n",
    "      SELECT DISTINCT (COUNT(?genInteraction) as ?IntCount)\n",
    "      WHERE {\n",
    "        ?genInteraction a wp:Interaction . \n",
    "      }\n",
    "    '''\n",
    "sparql.setQuery(pathwayQuery)\n",
    "sparql.setReturnFormat(JSON)\n",
    "results = sparql.query().convert()\n",
    "\n",
    "for result in results[\"results\"][\"bindings\"]:\n",
    "\tIntTotalCount = IntTotalCount.append({\n",
    "        'Interaction Count': result[\"IntCount\"][\"value\"],\n",
    "\t }, ignore_index=True)\n",
    "\n",
    "NonSpecificTable = Nonspecific.loc[:,\"NonSpecified Interaction Type Count\"]\n",
    "NonSpecificInteger = NonSpecificTable.apply(pandas.to_numeric, errors = 'ignore').sum()\n",
    "TotalInteractions = IntTotalCount.loc[:, \"Interaction Count\"].apply(pandas.to_numeric, errors = 'ignore').sum() \n",
    "percentNonSpecific = (NonSpecificInteger / TotalInteractions) * 100\n",
    "formPercentNonSpecific = str(round(percentNonSpecific,3)) + '% of WP RDF Interaction with Unspecified Interaction Type'"
   ]
  },
  {
   "cell_type": "code",
   "execution_count": 152,
   "metadata": {},
   "outputs": [
    {
     "data": {
      "text/plain": [
       "'28.156% of WP RDF Interaction with Unspecified Interaction Type'"
      ]
     },
     "execution_count": 152,
     "metadata": {},
     "output_type": "execute_result"
    }
   ],
   "source": [
    "formPercentNonSpecific"
   ]
  },
  {
   "cell_type": "code",
   "execution_count": 154,
   "metadata": {},
   "outputs": [
    {
     "data": {
      "text/plain": [
       "'28.156% of WP RDF Interaction with Unspecified Interaction Type'"
      ]
     },
     "execution_count": 154,
     "metadata": {},
     "output_type": "execute_result"
    }
   ],
   "source": [
    "formPercentNonSpecific"
   ]
  },
  {
   "cell_type": "markdown",
   "metadata": {},
   "source": [
    "# % of NonDirected Interactions"
   ]
  },
  {
   "cell_type": "code",
   "execution_count": 163,
   "metadata": {},
   "outputs": [],
   "source": [
    "NonDirectedInteger = NonDirected.loc[:, \"NonDirected Interactions Count\"].apply(pandas.to_numeric, errors = 'ignore').sum() \n",
    "percentNonDirected = (NonDirectedInteger / TotalInteractions) * 100\n",
    "#check this number\n",
    "formPercentNonDirected = str(round(percentNonDirected, 3)) + '% of Non-directed interaction in WP RDF'"
   ]
  },
  {
   "cell_type": "code",
   "execution_count": 164,
   "metadata": {},
   "outputs": [
    {
     "data": {
      "text/plain": [
       "'42.859% of Non-directed interaction in WP RDF'"
      ]
     },
     "execution_count": 164,
     "metadata": {},
     "output_type": "execute_result"
    }
   ],
   "source": [
    "formPercentNonDirected"
   ]
  },
  {
   "cell_type": "code",
   "execution_count": null,
   "metadata": {},
   "outputs": [],
   "source": []
  }
 ],
 "metadata": {
  "kernelspec": {
   "display_name": "Python 3",
   "language": "python",
   "name": "python3"
  },
  "language_info": {
   "codemirror_mode": {
    "name": "ipython",
    "version": 3
   },
   "file_extension": ".py",
   "mimetype": "text/x-python",
   "name": "python",
   "nbconvert_exporter": "python",
   "pygments_lexer": "ipython3",
   "version": "3.5.1"
  }
 },
 "nbformat": 4,
 "nbformat_minor": 2
}
