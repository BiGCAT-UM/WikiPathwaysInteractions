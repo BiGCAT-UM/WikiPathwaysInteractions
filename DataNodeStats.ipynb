{
 "cells": [
  {
   "cell_type": "markdown",
   "metadata": {},
   "source": [
    "# DataNode Type Counts"
   ]
  },
  {
   "cell_type": "code",
   "execution_count": 1,
   "metadata": {},
   "outputs": [],
   "source": [
    "from pip._internal import main as pip\n",
    "try:\n",
    "    import csv\n",
    "except ImportError:\n",
    "    pip(['install', 'csv'])\n",
    "    import csv\n",
    "try:\n",
    "    from SPARQLWrapper import SPARQLWrapper, JSON\n",
    "except  ImportError:\n",
    "    pip(['install', 'sparqlwrapper'])\n",
    "    from SPARQLWrapper import SPARQLWrapper, JSON\n",
    "    \n",
    "import pandas\n",
    "    \n",
    "sparql = SPARQLWrapper(\"http://sparql.wikipathways.org\")\n",
    "DataNodeCount = pandas.DataFrame(columns=['DataNode Type', 'DataNode Count'])\n",
    "\n",
    "pathwayQuery = '''\n",
    "      SELECT (substr(str(?o),41) as ?DNType) (COUNT(?o) as ?DNCount)\n",
    "      WHERE {\n",
    "        ?entity a ?o . \n",
    "        ?entity a wp:DataNode . \n",
    "         \n",
    "      } GROUP BY ?o\n",
    "        ORDER BY DESC (?DNCount)\n",
    "    '''\n",
    "sparql.setQuery(pathwayQuery)\n",
    "sparql.setReturnFormat(JSON)\n",
    "results = sparql.query().convert()\n",
    "\n",
    "for result in results[\"results\"][\"bindings\"]:\n",
    "\tDataNodeCount = DataNodeCount.append({\n",
    "\t\t'DataNode Type': result[\"DNType\"][\"value\"],\n",
    "        'DataNode Count': result[\"DNCount\"][\"value\"],\n",
    "\t }, ignore_index=True)\n",
    "    \n",
    "DNCountInteger = DataNodeCount.loc[:, \"DataNode Count\"].apply(pandas.to_numeric, errors = 'ignore').sum() "
   ]
  },
  {
   "cell_type": "code",
   "execution_count": 2,
   "metadata": {},
   "outputs": [
    {
     "data": {
      "text/html": [
       "<div>\n",
       "<table border=\"1\" class=\"dataframe\">\n",
       "  <thead>\n",
       "    <tr style=\"text-align: right;\">\n",
       "      <th></th>\n",
       "      <th>DataNode Type</th>\n",
       "      <th>DataNode Count</th>\n",
       "    </tr>\n",
       "  </thead>\n",
       "  <tbody>\n",
       "    <tr>\n",
       "      <th>0</th>\n",
       "      <td>DataNode</td>\n",
       "      <td>63005</td>\n",
       "    </tr>\n",
       "    <tr>\n",
       "      <th>1</th>\n",
       "      <td>GeneProduct</td>\n",
       "      <td>34273</td>\n",
       "    </tr>\n",
       "    <tr>\n",
       "      <th>2</th>\n",
       "      <td>Protein</td>\n",
       "      <td>14455</td>\n",
       "    </tr>\n",
       "    <tr>\n",
       "      <th>3</th>\n",
       "      <td>Complex</td>\n",
       "      <td>10951</td>\n",
       "    </tr>\n",
       "    <tr>\n",
       "      <th>4</th>\n",
       "      <td>Metabolite</td>\n",
       "      <td>4574</td>\n",
       "    </tr>\n",
       "    <tr>\n",
       "      <th>5</th>\n",
       "      <td>Rna</td>\n",
       "      <td>693</td>\n",
       "    </tr>\n",
       "  </tbody>\n",
       "</table>\n",
       "</div>"
      ],
      "text/plain": [
       "  DataNode Type DataNode Count\n",
       "0      DataNode          63005\n",
       "1   GeneProduct          34273\n",
       "2       Protein          14455\n",
       "3       Complex          10951\n",
       "4    Metabolite           4574\n",
       "5           Rna            693"
      ]
     },
     "execution_count": 2,
     "metadata": {},
     "output_type": "execute_result"
    }
   ],
   "source": [
    "DataNodeCount"
   ]
  },
  {
   "cell_type": "markdown",
   "metadata": {},
   "source": [
    "# GPMLRDF datanodes WITHOUT a WPRDF datanode equivalent "
   ]
  },
  {
   "cell_type": "code",
   "execution_count": 3,
   "metadata": {},
   "outputs": [],
   "source": [
    "sparql = SPARQLWrapper(\"http://sparql.wikipathways.org\")\n",
    "GpmlWoWP = pandas.DataFrame(columns=['DataNode Type', 'DataNode Count'])\n",
    "\n",
    "pathwayQuery = '''\n",
    "      SELECT (STR(?typeIRI) AS ?type) (COUNT(?datanode) AS ?count) WHERE {\n",
    "          ?datanode a gpml:DataNode ; gpml:type ?typeIRI .\n",
    "          MINUS { ?wpDatanode wp:isAbout ?datanode }\n",
    "       } GROUP BY ?typeIRI\n",
    "         ORDER BY DESC(?count)\n",
    "\n",
    "    '''\n",
    "sparql.setQuery(pathwayQuery)\n",
    "sparql.setReturnFormat(JSON)\n",
    "results = sparql.query().convert()\n",
    "\n",
    "for result in results[\"results\"][\"bindings\"]:\n",
    "\tGpmlWoWP = GpmlWoWP.append({\n",
    "\t\t'DataNode Type': result[\"type\"][\"value\"],\n",
    "        'DataNode Count': result[\"count\"][\"value\"],\n",
    "\t }, ignore_index=True)\n",
    "    \n",
    "GpmlWoWPInteger = GpmlWoWP.loc[:, \"DataNode Count\"].apply(pandas.to_numeric, errors = 'ignore').sum() "
   ]
  },
  {
   "cell_type": "code",
   "execution_count": 4,
   "metadata": {},
   "outputs": [
    {
     "data": {
      "text/html": [
       "<div>\n",
       "<table border=\"1\" class=\"dataframe\">\n",
       "  <thead>\n",
       "    <tr style=\"text-align: right;\">\n",
       "      <th></th>\n",
       "      <th>DataNode Type</th>\n",
       "      <th>DataNode Count</th>\n",
       "    </tr>\n",
       "  </thead>\n",
       "  <tbody>\n",
       "    <tr>\n",
       "      <th>0</th>\n",
       "      <td>GeneProduct</td>\n",
       "      <td>6528</td>\n",
       "    </tr>\n",
       "    <tr>\n",
       "      <th>1</th>\n",
       "      <td>Unknown</td>\n",
       "      <td>4935</td>\n",
       "    </tr>\n",
       "    <tr>\n",
       "      <th>2</th>\n",
       "      <td>Metabolite</td>\n",
       "      <td>1693</td>\n",
       "    </tr>\n",
       "    <tr>\n",
       "      <th>3</th>\n",
       "      <td>Protein</td>\n",
       "      <td>664</td>\n",
       "    </tr>\n",
       "    <tr>\n",
       "      <th>4</th>\n",
       "      <td>Pathway</td>\n",
       "      <td>453</td>\n",
       "    </tr>\n",
       "    <tr>\n",
       "      <th>5</th>\n",
       "      <td>Rna</td>\n",
       "      <td>153</td>\n",
       "    </tr>\n",
       "    <tr>\n",
       "      <th>6</th>\n",
       "      <td>Complex</td>\n",
       "      <td>27</td>\n",
       "    </tr>\n",
       "  </tbody>\n",
       "</table>\n",
       "</div>"
      ],
      "text/plain": [
       "  DataNode Type DataNode Count\n",
       "0   GeneProduct           6528\n",
       "1       Unknown           4935\n",
       "2    Metabolite           1693\n",
       "3       Protein            664\n",
       "4       Pathway            453\n",
       "5           Rna            153\n",
       "6       Complex             27"
      ]
     },
     "execution_count": 4,
     "metadata": {},
     "output_type": "execute_result"
    }
   ],
   "source": [
    "GpmlWoWP"
   ]
  },
  {
   "cell_type": "markdown",
   "metadata": {},
   "source": [
    "# GPMLRDF datanodes WITH a WPRDF datanode equivalent"
   ]
  },
  {
   "cell_type": "code",
   "execution_count": 5,
   "metadata": {},
   "outputs": [],
   "source": [
    "sparql = SPARQLWrapper(\"http://sparql.wikipathways.org\")\n",
    "GpmlWWP = pandas.DataFrame(columns=['DataNode Type', 'DataNode Count'])\n",
    "\n",
    "pathwayQuery = '''\n",
    "      SELECT (STR(?typeIRI) AS ?type) (COUNT(?datanode) AS ?count) WHERE {\n",
    "          ?datanode a gpml:DataNode ; gpml:type ?typeIRI .\n",
    "          ?wpDatanode wp:isAbout ?datanode .\n",
    "        } GROUP BY ?typeIRI\n",
    "          ORDER BY DESC(?count)\n",
    "\n",
    "    '''\n",
    "sparql.setQuery(pathwayQuery)\n",
    "sparql.setReturnFormat(JSON)\n",
    "results = sparql.query().convert()\n",
    "\n",
    "for result in results[\"results\"][\"bindings\"]:\n",
    "\tGpmlWWP = GpmlWWP.append({\n",
    "\t\t'DataNode Type': result[\"type\"][\"value\"],\n",
    "        'DataNode Count': result[\"count\"][\"value\"],\n",
    "\t }, ignore_index=True)\n",
    "    \n",
    "GpmlWWPInteger = GpmlWWP.loc[:, \"DataNode Count\"].apply(pandas.to_numeric, errors = 'ignore').sum() "
   ]
  },
  {
   "cell_type": "code",
   "execution_count": 6,
   "metadata": {},
   "outputs": [
    {
     "data": {
      "text/html": [
       "<div>\n",
       "<table border=\"1\" class=\"dataframe\">\n",
       "  <thead>\n",
       "    <tr style=\"text-align: right;\">\n",
       "      <th></th>\n",
       "      <th>DataNode Type</th>\n",
       "      <th>DataNode Count</th>\n",
       "    </tr>\n",
       "  </thead>\n",
       "  <tbody>\n",
       "    <tr>\n",
       "      <th>0</th>\n",
       "      <td>Protein</td>\n",
       "      <td>123897</td>\n",
       "    </tr>\n",
       "    <tr>\n",
       "      <th>1</th>\n",
       "      <td>GeneProduct</td>\n",
       "      <td>66880</td>\n",
       "    </tr>\n",
       "    <tr>\n",
       "      <th>2</th>\n",
       "      <td>Metabolite</td>\n",
       "      <td>32378</td>\n",
       "    </tr>\n",
       "    <tr>\n",
       "      <th>3</th>\n",
       "      <td>Complex</td>\n",
       "      <td>14386</td>\n",
       "    </tr>\n",
       "    <tr>\n",
       "      <th>4</th>\n",
       "      <td>Pathway</td>\n",
       "      <td>1272</td>\n",
       "    </tr>\n",
       "    <tr>\n",
       "      <th>5</th>\n",
       "      <td>Rna</td>\n",
       "      <td>1251</td>\n",
       "    </tr>\n",
       "  </tbody>\n",
       "</table>\n",
       "</div>"
      ],
      "text/plain": [
       "  DataNode Type DataNode Count\n",
       "0       Protein         123897\n",
       "1   GeneProduct          66880\n",
       "2    Metabolite          32378\n",
       "3       Complex          14386\n",
       "4       Pathway           1272\n",
       "5           Rna           1251"
      ]
     },
     "execution_count": 6,
     "metadata": {},
     "output_type": "execute_result"
    }
   ],
   "source": [
    "GpmlWWP"
   ]
  },
  {
   "cell_type": "markdown",
   "metadata": {},
   "source": [
    "# % GPML RDF datanodes WITHOUT a WP RDF datanode equivalent"
   ]
  },
  {
   "cell_type": "code",
   "execution_count": 7,
   "metadata": {},
   "outputs": [],
   "source": [
    "percentGPWoWP = ( GpmlWoWPInteger / (GpmlWoWPInteger + GpmlWWPInteger) ) * 100\n",
    "formPercentGPWoWP = str(round(percentGPWoWP, 3)) + '% of GPML datanodes WITHOUT a WP datanode equivalent'"
   ]
  },
  {
   "cell_type": "code",
   "execution_count": 8,
   "metadata": {},
   "outputs": [
    {
     "data": {
      "text/plain": [
       "'5.679% of GPML datanodes WITHOUT a WP datanode equivalent'"
      ]
     },
     "execution_count": 8,
     "metadata": {},
     "output_type": "execute_result"
    }
   ],
   "source": [
    "formPercentGPWoWP"
   ]
  },
  {
   "cell_type": "markdown",
   "metadata": {},
   "source": [
    "#  The Complex GPMLRDF datanodes without WPRDF equivalents"
   ]
  },
  {
   "cell_type": "code",
   "execution_count": 9,
   "metadata": {},
   "outputs": [],
   "source": [
    "sparql = SPARQLWrapper(\"http://sparql.wikipathways.org\")\n",
    "CompGpmlWoWp = pandas.DataFrame(columns=['Complex DataNodes'])\n",
    "\n",
    "pathwayQuery = '''\n",
    "      SELECT  (substr(str(?datanode),37 ) as ?datanodes ) WHERE {\n",
    "          ?datanode a gpml:DataNode ; gpml:type \"Complex\"^^xsd:string .\n",
    "          MINUS { ?wpDatanode wp:isAbout ?datanode }\n",
    "        }\n",
    "\n",
    "    '''\n",
    "sparql.setQuery(pathwayQuery)\n",
    "sparql.setReturnFormat(JSON)\n",
    "results = sparql.query().convert()\n",
    "\n",
    "for result in results[\"results\"][\"bindings\"]:\n",
    "\tCompGpmlWoWp = CompGpmlWoWp.append({\n",
    "\t\t'Complex DataNodes': result[\"datanodes\"][\"value\"],\n",
    "\t }, ignore_index=True)"
   ]
  },
  {
   "cell_type": "code",
   "execution_count": 10,
   "metadata": {},
   "outputs": [
    {
     "data": {
      "text/html": [
       "<div>\n",
       "<table border=\"1\" class=\"dataframe\">\n",
       "  <thead>\n",
       "    <tr style=\"text-align: right;\">\n",
       "      <th></th>\n",
       "      <th>Complex DataNodes</th>\n",
       "    </tr>\n",
       "  </thead>\n",
       "  <tbody>\n",
       "    <tr>\n",
       "      <th>0</th>\n",
       "      <td>WP2509_r92315/DataNode/c040f</td>\n",
       "    </tr>\n",
       "    <tr>\n",
       "      <th>1</th>\n",
       "      <td>WP391_r71373/DataNode/fc7a3</td>\n",
       "    </tr>\n",
       "    <tr>\n",
       "      <th>2</th>\n",
       "      <td>WP1493_r79802/DataNode/ec1f0</td>\n",
       "    </tr>\n",
       "    <tr>\n",
       "      <th>3</th>\n",
       "      <td>WP3134_r80692/DataNode/fc7a3</td>\n",
       "    </tr>\n",
       "    <tr>\n",
       "      <th>4</th>\n",
       "      <td>WP3601_r89202/DataNode/c8eb7</td>\n",
       "    </tr>\n",
       "    <tr>\n",
       "      <th>5</th>\n",
       "      <td>WP3601_r89202/DataNode/e3358</td>\n",
       "    </tr>\n",
       "    <tr>\n",
       "      <th>6</th>\n",
       "      <td>WP1263_r71748/DataNode/fc7a3</td>\n",
       "    </tr>\n",
       "    <tr>\n",
       "      <th>7</th>\n",
       "      <td>WP2583_r97638/DataNode/c951f</td>\n",
       "    </tr>\n",
       "    <tr>\n",
       "      <th>8</th>\n",
       "      <td>WP3226_r89410/DataNode/b328d</td>\n",
       "    </tr>\n",
       "    <tr>\n",
       "      <th>9</th>\n",
       "      <td>WP3226_r89410/DataNode/c3d69</td>\n",
       "    </tr>\n",
       "    <tr>\n",
       "      <th>10</th>\n",
       "      <td>WP4197_r95608/DataNode/d7ca2</td>\n",
       "    </tr>\n",
       "    <tr>\n",
       "      <th>11</th>\n",
       "      <td>WP2586_r91687/DataNode/b328d</td>\n",
       "    </tr>\n",
       "    <tr>\n",
       "      <th>12</th>\n",
       "      <td>WP2586_r91687/DataNode/c3d69</td>\n",
       "    </tr>\n",
       "    <tr>\n",
       "      <th>13</th>\n",
       "      <td>WP2583_r97638/DataNode/a8ece</td>\n",
       "    </tr>\n",
       "    <tr>\n",
       "      <th>14</th>\n",
       "      <td>WP2583_r97638/DataNode/da6cd</td>\n",
       "    </tr>\n",
       "    <tr>\n",
       "      <th>15</th>\n",
       "      <td>WP2583_r97638/DataNode/f7b20</td>\n",
       "    </tr>\n",
       "    <tr>\n",
       "      <th>16</th>\n",
       "      <td>WP3282_r96324/DataNode/a8ece</td>\n",
       "    </tr>\n",
       "    <tr>\n",
       "      <th>17</th>\n",
       "      <td>WP3282_r96324/DataNode/c951f</td>\n",
       "    </tr>\n",
       "    <tr>\n",
       "      <th>18</th>\n",
       "      <td>WP3282_r96324/DataNode/da6cd</td>\n",
       "    </tr>\n",
       "    <tr>\n",
       "      <th>19</th>\n",
       "      <td>WP3282_r96324/DataNode/f7b20</td>\n",
       "    </tr>\n",
       "    <tr>\n",
       "      <th>20</th>\n",
       "      <td>WP2806_r97328/DataNode/a680a</td>\n",
       "    </tr>\n",
       "    <tr>\n",
       "      <th>21</th>\n",
       "      <td>WP2806_r97328/DataNode/b45a6</td>\n",
       "    </tr>\n",
       "    <tr>\n",
       "      <th>22</th>\n",
       "      <td>WP2806_r97328/DataNode/e4901</td>\n",
       "    </tr>\n",
       "    <tr>\n",
       "      <th>23</th>\n",
       "      <td>WP2806_r97328/DataNode/f51e9</td>\n",
       "    </tr>\n",
       "    <tr>\n",
       "      <th>24</th>\n",
       "      <td>WP2806_r97328/DataNode/f7d7c</td>\n",
       "    </tr>\n",
       "    <tr>\n",
       "      <th>25</th>\n",
       "      <td>WP2806_r97328/DataNode/fd0cb</td>\n",
       "    </tr>\n",
       "    <tr>\n",
       "      <th>26</th>\n",
       "      <td>WP2806_r97328/DataNode/fd947</td>\n",
       "    </tr>\n",
       "  </tbody>\n",
       "</table>\n",
       "</div>"
      ],
      "text/plain": [
       "               Complex DataNodes\n",
       "0   WP2509_r92315/DataNode/c040f\n",
       "1    WP391_r71373/DataNode/fc7a3\n",
       "2   WP1493_r79802/DataNode/ec1f0\n",
       "3   WP3134_r80692/DataNode/fc7a3\n",
       "4   WP3601_r89202/DataNode/c8eb7\n",
       "5   WP3601_r89202/DataNode/e3358\n",
       "6   WP1263_r71748/DataNode/fc7a3\n",
       "7   WP2583_r97638/DataNode/c951f\n",
       "8   WP3226_r89410/DataNode/b328d\n",
       "9   WP3226_r89410/DataNode/c3d69\n",
       "10  WP4197_r95608/DataNode/d7ca2\n",
       "11  WP2586_r91687/DataNode/b328d\n",
       "12  WP2586_r91687/DataNode/c3d69\n",
       "13  WP2583_r97638/DataNode/a8ece\n",
       "14  WP2583_r97638/DataNode/da6cd\n",
       "15  WP2583_r97638/DataNode/f7b20\n",
       "16  WP3282_r96324/DataNode/a8ece\n",
       "17  WP3282_r96324/DataNode/c951f\n",
       "18  WP3282_r96324/DataNode/da6cd\n",
       "19  WP3282_r96324/DataNode/f7b20\n",
       "20  WP2806_r97328/DataNode/a680a\n",
       "21  WP2806_r97328/DataNode/b45a6\n",
       "22  WP2806_r97328/DataNode/e4901\n",
       "23  WP2806_r97328/DataNode/f51e9\n",
       "24  WP2806_r97328/DataNode/f7d7c\n",
       "25  WP2806_r97328/DataNode/fd0cb\n",
       "26  WP2806_r97328/DataNode/fd947"
      ]
     },
     "execution_count": 10,
     "metadata": {},
     "output_type": "execute_result"
    }
   ],
   "source": [
    "CompGpmlWoWp"
   ]
  },
  {
   "cell_type": "code",
   "execution_count": null,
   "metadata": {},
   "outputs": [],
   "source": []
  },
  {
   "cell_type": "code",
   "execution_count": null,
   "metadata": {},
   "outputs": [],
   "source": []
  }
 ],
 "metadata": {
  "kernelspec": {
   "display_name": "Python 3",
   "language": "python",
   "name": "python3"
  },
  "language_info": {
   "codemirror_mode": {
    "name": "ipython",
    "version": 3
   },
   "file_extension": ".py",
   "mimetype": "text/x-python",
   "name": "python",
   "nbconvert_exporter": "python",
   "pygments_lexer": "ipython3",
   "version": "3.5.1"
  }
 },
 "nbformat": 4,
 "nbformat_minor": 2
}
