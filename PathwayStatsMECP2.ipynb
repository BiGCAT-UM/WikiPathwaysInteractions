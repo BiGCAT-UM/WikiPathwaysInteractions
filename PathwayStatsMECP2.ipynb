{
 "cells": [
  {
   "cell_type": "markdown",
   "metadata": {},
   "source": [
    "# MECP2 wikipathways:WP4312 DataNode Type Counts"
   ]
  },
  {
   "cell_type": "code",
   "execution_count": 11,
   "metadata": {},
   "outputs": [],
   "source": [
    "from pip._internal import main as pip\n",
    "\n",
    "try:\n",
    "    import csv\n",
    "except ImportError:\n",
    "    pip(['install', 'csv'])\n",
    "    import csv\n",
    "try:\n",
    "    from SPARQLWrapper import SPARQLWrapper, JSON\n",
    "except  ImportError:\n",
    "    import sys\n",
    "    !{sys.executable} -m pip install SPARQLWrapper\n",
    "    from SPARQLWrapper import SPARQLWrapper, JSON\n",
    "    \n",
    "import pandas\n",
    "    \n",
    "sparql = SPARQLWrapper(\"http://sparql.wikipathways.org\")\n",
    "DataNodeCount = pandas.DataFrame(columns=['DataNode Type', 'DataNode Count'])\n",
    "\n",
    "pathwayQuery = '''\n",
    "      SELECT Distinct (substr(str(?o),41) as ?DNType) (COUNT(?o) as ?DNCount)\n",
    "      WHERE {\n",
    "        ?entity a ?o . \n",
    "        ?entity a wp:DataNode . \n",
    "        ?entity dcterms:isPartOf <http://identifiers.org/wikipathways/WP4312_r104287> .\n",
    "        ?entity dcterms:isPartOf ?pathway .\n",
    "        ?pathway    a wp:Pathway ;\n",
    "            wp:ontologyTag <http://vocabularies.wikipathways.org/wp#Curation:AnalysisCollection> ;\n",
    "            wp:organismName        \"Homo sapiens\"^^xsd:string .\n",
    "         \n",
    "      } \n",
    "      ORDER BY DESC (?DNCount)\n",
    "    '''\n",
    "sparql.setQuery(pathwayQuery)\n",
    "sparql.setReturnFormat(JSON)\n",
    "results = sparql.query().convert()\n",
    "\n",
    "for result in results[\"results\"][\"bindings\"]:\n",
    "\tDataNodeCount = DataNodeCount.append({\n",
    "\t\t'DataNode Type': result[\"DNType\"][\"value\"],\n",
    "        'DataNode Count': result[\"DNCount\"][\"value\"],\n",
    "\t }, ignore_index=True)\n",
    "    \n",
    "DNCountInteger = DataNodeCount.loc[:, \"DataNode Count\"].apply(pandas.to_numeric, errors = 'ignore').sum()"
   ]
  },
  {
   "cell_type": "code",
   "execution_count": 12,
   "metadata": {},
   "outputs": [
    {
     "data": {
      "text/html": [
       "<div>\n",
       "<style scoped>\n",
       "    .dataframe tbody tr th:only-of-type {\n",
       "        vertical-align: middle;\n",
       "    }\n",
       "\n",
       "    .dataframe tbody tr th {\n",
       "        vertical-align: top;\n",
       "    }\n",
       "\n",
       "    .dataframe thead th {\n",
       "        text-align: right;\n",
       "    }\n",
       "</style>\n",
       "<table border=\"1\" class=\"dataframe\">\n",
       "  <thead>\n",
       "    <tr style=\"text-align: right;\">\n",
       "      <th></th>\n",
       "      <th>DataNode Type</th>\n",
       "      <th>DataNode Count</th>\n",
       "    </tr>\n",
       "  </thead>\n",
       "  <tbody>\n",
       "    <tr>\n",
       "      <th>0</th>\n",
       "      <td>DataNode</td>\n",
       "      <td>152</td>\n",
       "    </tr>\n",
       "    <tr>\n",
       "      <th>1</th>\n",
       "      <td>GeneProduct</td>\n",
       "      <td>148</td>\n",
       "    </tr>\n",
       "    <tr>\n",
       "      <th>2</th>\n",
       "      <td>Protein</td>\n",
       "      <td>18</td>\n",
       "    </tr>\n",
       "    <tr>\n",
       "      <th>3</th>\n",
       "      <td>Rna</td>\n",
       "      <td>9</td>\n",
       "    </tr>\n",
       "    <tr>\n",
       "      <th>4</th>\n",
       "      <td>Complex</td>\n",
       "      <td>4</td>\n",
       "    </tr>\n",
       "  </tbody>\n",
       "</table>\n",
       "</div>"
      ],
      "text/plain": [
       "  DataNode Type DataNode Count\n",
       "0      DataNode            152\n",
       "1   GeneProduct            148\n",
       "2       Protein             18\n",
       "3           Rna              9\n",
       "4       Complex              4"
      ]
     },
     "execution_count": 12,
     "metadata": {},
     "output_type": "execute_result"
    }
   ],
   "source": [
    "DataNodeCount"
   ]
  },
  {
   "cell_type": "markdown",
   "metadata": {},
   "source": [
    "# MECP2 wikipathways:WP4312 GPMLRDF datanodes WITHOUT a WPRDF datanode equivalent"
   ]
  },
  {
   "cell_type": "code",
   "execution_count": 24,
   "metadata": {},
   "outputs": [],
   "source": [
    "sparql = SPARQLWrapper(\"http://sparql.wikipathways.org\")\n",
    "GpmlWoWP = pandas.DataFrame(columns=['DataNode Type', 'DataNode Count'])\n",
    "\n",
    "pathwayQuery = '''\n",
    "      SELECT (STR(?typeIRI) AS ?type) (COUNT(?datanode) AS ?count) WHERE {\n",
    "          ?datanode a gpml:DataNode ; \n",
    "            gpml:type ?typeIRI .\n",
    "          ?datanode dcterms:isPartOf ?pathway ;\n",
    "            dcterms:isPartOf <http://rdf.wikipathways.org/Pathway/WP4312_r104287> .\n",
    "          ?wpPathway    a wp:Pathway ;\n",
    "            wp:isAbout ?pathway ;\n",
    "            wp:ontologyTag <http://vocabularies.wikipathways.org/wp#Curation:AnalysisCollection> ;\n",
    "            wp:organismName        \"Homo sapiens\"^^xsd:string .\n",
    "          MINUS { ?wpDatanode wp:isAbout ?datanode } .\n",
    "       } GROUP BY ?typeIRI\n",
    "         ORDER BY DESC(?count)\n",
    "\n",
    "    '''\n",
    "sparql.setQuery(pathwayQuery)\n",
    "sparql.setReturnFormat(JSON)\n",
    "results = sparql.query().convert()\n",
    "\n",
    "for result in results[\"results\"][\"bindings\"]:\n",
    "\tGpmlWoWP = GpmlWoWP.append({\n",
    "\t\t'DataNode Type': result[\"type\"][\"value\"],\n",
    "        'DataNode Count': result[\"count\"][\"value\"],\n",
    "\t }, ignore_index=True)\n",
    "    \n",
    "GpmlWoWPInteger = GpmlWoWP.loc[:, \"DataNode Count\"].apply(pandas.to_numeric, errors = 'ignore').sum()"
   ]
  },
  {
   "cell_type": "code",
   "execution_count": 25,
   "metadata": {},
   "outputs": [
    {
     "data": {
      "text/html": [
       "<div>\n",
       "<style scoped>\n",
       "    .dataframe tbody tr th:only-of-type {\n",
       "        vertical-align: middle;\n",
       "    }\n",
       "\n",
       "    .dataframe tbody tr th {\n",
       "        vertical-align: top;\n",
       "    }\n",
       "\n",
       "    .dataframe thead th {\n",
       "        text-align: right;\n",
       "    }\n",
       "</style>\n",
       "<table border=\"1\" class=\"dataframe\">\n",
       "  <thead>\n",
       "    <tr style=\"text-align: right;\">\n",
       "      <th></th>\n",
       "      <th>DataNode Type</th>\n",
       "      <th>DataNode Count</th>\n",
       "    </tr>\n",
       "  </thead>\n",
       "  <tbody>\n",
       "    <tr>\n",
       "      <th>0</th>\n",
       "      <td>GeneProduct</td>\n",
       "      <td>1</td>\n",
       "    </tr>\n",
       "  </tbody>\n",
       "</table>\n",
       "</div>"
      ],
      "text/plain": [
       "  DataNode Type DataNode Count\n",
       "0   GeneProduct              1"
      ]
     },
     "execution_count": 25,
     "metadata": {},
     "output_type": "execute_result"
    }
   ],
   "source": [
    "GpmlWoWP"
   ]
  },
  {
   "cell_type": "markdown",
   "metadata": {},
   "source": [
    "# MECP2 wikipathways:WP4312 Count of Interaction Types"
   ]
  },
  {
   "cell_type": "code",
   "execution_count": 22,
   "metadata": {},
   "outputs": [],
   "source": [
    "sparql = SPARQLWrapper(\"http://sparql.wikipathways.org\")\n",
    "IntTypesCount = pandas.DataFrame(columns=['Interaction Type', 'Interaction Count'])\n",
    "\n",
    "pathwayQuery = '''\n",
    "      SELECT (substr(str(?o),41) as ?IntType) (COUNT(?o) as ?IntCount)\n",
    "      WHERE {\n",
    "        ?entity a ?o . \n",
    "        ?entity a wp:Interaction . \n",
    "        ?entity dcterms:isPartOf <http://identifiers.org/wikipathways/WP4312_r104287> .\n",
    "        ?entity dcterms:isPartOf ?pathway .\n",
    "        ?pathway    a wp:Pathway ;\n",
    "            wp:ontologyTag <http://vocabularies.wikipathways.org/wp#Curation:AnalysisCollection> ;\n",
    "            wp:organismName        \"Homo sapiens\"^^xsd:string .\n",
    "      } ORDER BY DESC(?IntCount)\n",
    "    '''\n",
    "sparql.setQuery(pathwayQuery)\n",
    "sparql.setReturnFormat(JSON)\n",
    "results = sparql.query().convert()\n",
    "\n",
    "for result in results[\"results\"][\"bindings\"]:\n",
    "\tIntTypesCount = IntTypesCount.append({\n",
    "\t\t'Interaction Type': result[\"IntType\"][\"value\"],\n",
    "        'Interaction Count': result[\"IntCount\"][\"value\"],\n",
    "\t }, ignore_index=True)\n",
    "    \n",
    "IntCountInteger = IntTypesCount.loc[:, \"Interaction Count\"].apply(pandas.to_numeric, errors = 'ignore').sum()"
   ]
  },
  {
   "cell_type": "code",
   "execution_count": 23,
   "metadata": {},
   "outputs": [
    {
     "data": {
      "text/html": [
       "<div>\n",
       "<style scoped>\n",
       "    .dataframe tbody tr th:only-of-type {\n",
       "        vertical-align: middle;\n",
       "    }\n",
       "\n",
       "    .dataframe tbody tr th {\n",
       "        vertical-align: top;\n",
       "    }\n",
       "\n",
       "    .dataframe thead th {\n",
       "        text-align: right;\n",
       "    }\n",
       "</style>\n",
       "<table border=\"1\" class=\"dataframe\">\n",
       "  <thead>\n",
       "    <tr style=\"text-align: right;\">\n",
       "      <th></th>\n",
       "      <th>Interaction Type</th>\n",
       "      <th>Interaction Count</th>\n",
       "    </tr>\n",
       "  </thead>\n",
       "  <tbody>\n",
       "    <tr>\n",
       "      <th>0</th>\n",
       "      <td>Interaction</td>\n",
       "      <td>45</td>\n",
       "    </tr>\n",
       "    <tr>\n",
       "      <th>1</th>\n",
       "      <td>DirectedInteraction</td>\n",
       "      <td>37</td>\n",
       "    </tr>\n",
       "    <tr>\n",
       "      <th>2</th>\n",
       "      <td>Binding</td>\n",
       "      <td>20</td>\n",
       "    </tr>\n",
       "    <tr>\n",
       "      <th>3</th>\n",
       "      <td>Stimulation</td>\n",
       "      <td>12</td>\n",
       "    </tr>\n",
       "    <tr>\n",
       "      <th>4</th>\n",
       "      <td>ComplexBinding</td>\n",
       "      <td>4</td>\n",
       "    </tr>\n",
       "    <tr>\n",
       "      <th>5</th>\n",
       "      <td>Inhibition</td>\n",
       "      <td>3</td>\n",
       "    </tr>\n",
       "  </tbody>\n",
       "</table>\n",
       "</div>"
      ],
      "text/plain": [
       "      Interaction Type Interaction Count\n",
       "0          Interaction                45\n",
       "1  DirectedInteraction                37\n",
       "2              Binding                20\n",
       "3          Stimulation                12\n",
       "4       ComplexBinding                 4\n",
       "5           Inhibition                 3"
      ]
     },
     "execution_count": 23,
     "metadata": {},
     "output_type": "execute_result"
    }
   ],
   "source": [
    "IntTypesCount"
   ]
  },
  {
   "cell_type": "markdown",
   "metadata": {},
   "source": [
    "# MECP2 wikipathways:WP4312 GPML RDF Interactions WITHOUT a WP RDF equivalent"
   ]
  },
  {
   "cell_type": "code",
   "execution_count": 18,
   "metadata": {},
   "outputs": [],
   "source": [
    "sparql = SPARQLWrapper(\"http://sparql.wikipathways.org\")\n",
    "noWPINT = pandas.DataFrame(columns=['Interactions Counted'])\n",
    "\n",
    "pathwayQuery = '''\n",
    "    PREFIX gpml:    <http://vocabularies.wikipathways.org/gpml#>\n",
    "    PREFIX dcterms: <http://purl.org/dc/terms/>\n",
    "    PREFIX dc:      <http://purl.org/dc/elements/1.1/>\n",
    "    PREFIX rdf:     <http://www.w3.org/1999/02/22-rdf-syntax-ns#> \n",
    "\n",
    "    SELECT (COUNT(?Interaction) AS ?count) \n",
    "    WHERE {\n",
    "\n",
    "          ?Interaction a gpml:Interaction .\n",
    "          ?Interaction dcterms:isPartOf ?pathway .\n",
    "          ?wpPathway    a wp:Pathway ;\n",
    "            wp:isAbout ?pathway ;\n",
    "            wp:ontologyTag <http://vocabularies.wikipathways.org/wp#Curation:AnalysisCollection> ;\n",
    "            wp:organismName        \"Homo sapiens\"^^xsd:string .\n",
    "          MINUS {?wpInteraction wp:isAbout ?Interaction}\n",
    "\n",
    "        } \n",
    "          ORDER BY DESC(?count)\n",
    "    '''\n",
    "sparql.setQuery(pathwayQuery)\n",
    "sparql.setReturnFormat(JSON)\n",
    "results = sparql.query().convert()\n",
    "\n",
    "for result in results[\"results\"][\"bindings\"]:\n",
    "\tnoWPINT = noWPINT.append({\n",
    "        'Interactions Counted': result[\"count\"][\"value\"],\n",
    "\t }, ignore_index=True)"
   ]
  },
  {
   "cell_type": "code",
   "execution_count": 19,
   "metadata": {},
   "outputs": [
    {
     "data": {
      "text/html": [
       "<div>\n",
       "<style scoped>\n",
       "    .dataframe tbody tr th:only-of-type {\n",
       "        vertical-align: middle;\n",
       "    }\n",
       "\n",
       "    .dataframe tbody tr th {\n",
       "        vertical-align: top;\n",
       "    }\n",
       "\n",
       "    .dataframe thead th {\n",
       "        text-align: right;\n",
       "    }\n",
       "</style>\n",
       "<table border=\"1\" class=\"dataframe\">\n",
       "  <thead>\n",
       "    <tr style=\"text-align: right;\">\n",
       "      <th></th>\n",
       "      <th>Interactions Counted</th>\n",
       "    </tr>\n",
       "  </thead>\n",
       "  <tbody>\n",
       "    <tr>\n",
       "      <th>0</th>\n",
       "      <td>12796</td>\n",
       "    </tr>\n",
       "  </tbody>\n",
       "</table>\n",
       "</div>"
      ],
      "text/plain": [
       "  Interactions Counted\n",
       "0                12796"
      ]
     },
     "execution_count": 19,
     "metadata": {},
     "output_type": "execute_result"
    }
   ],
   "source": [
    "noWPINT"
   ]
  },
  {
   "cell_type": "code",
   "execution_count": null,
   "metadata": {},
   "outputs": [],
   "source": []
  }
 ],
 "metadata": {
  "kernelspec": {
   "display_name": "Python 3",
   "language": "python",
   "name": "python3"
  },
  "language_info": {
   "codemirror_mode": {
    "name": "ipython",
    "version": 3
   },
   "file_extension": ".py",
   "mimetype": "text/x-python",
   "name": "python",
   "nbconvert_exporter": "python",
   "pygments_lexer": "ipython3",
   "version": "3.6.3"
  }
 },
 "nbformat": 4,
 "nbformat_minor": 2
}
